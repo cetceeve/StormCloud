{
 "cells": [
  {
   "cell_type": "markdown",
   "metadata": {},
   "source": [
    "### Get Cloud outage data into dataframe\n",
    "\n",
    "First import the json and define column names and there mapping to json"
   ]
  },
  {
   "cell_type": "code",
   "execution_count": 9,
   "metadata": {},
   "outputs": [],
   "source": [
    "import json\n",
    "import pandas as pd\n",
    "\n",
    "COLS = {\"id\": \"id\",    \n",
    "        \"start\": \"begin\",\n",
    "        \"end\": \"end\",\n",
    "        \"severity\": \"severity\",\n",
    "        \"status\": \"status_impact\",\n",
    "        \"location\": (\"currently_affected_locations\", \"previously_affected_locations\"),\n",
    "        \"service_name\": \"service_name\",\n",
    "        \"number_affected_products\": \"affected_products\"\n",
    "    }\n",
    "\n",
    "with open(\"../json-data/incidents.json\") as file:\n",
    "    incidents_json = json.load(file)"
   ]
  },
  {
   "cell_type": "markdown",
   "metadata": {},
   "source": [
    "Create data frame and copy over the data"
   ]
  },
  {
   "cell_type": "code",
   "execution_count": 24,
   "metadata": {},
   "outputs": [],
   "source": [
    "df = pd.DataFrame(data=[], columns=COLS.keys())\n",
    "\n",
    "for incident in incidents_json:\n",
    "    locations = {x[\"id\"] for x in incident.get(COLS[\"location\"][0], None) + incident.get(COLS[\"location\"][1], None)}\n",
    "    row = {\n",
    "        \"id\": incident.get(COLS[\"id\"], None),\n",
    "        \"start\": incident.get(COLS[\"start\"], None),\n",
    "        \"end\": incident.get(COLS[\"end\"], None),\n",
    "        \"severity\": incident.get(COLS[\"severity\"], None),\n",
    "        \"location\": locations,\n",
    "        \"service_name\": incident.get(COLS[\"service_name\"]),\n",
    "        \"status\": incident.get(COLS[\"status\"], None),\n",
    "        \"number_affected_products\": len(incident.get(COLS[\"number_affected_products\"], []))\n",
    "    }\n",
    "    df.loc[len(df)] = row"
   ]
  },
  {
   "cell_type": "markdown",
   "metadata": {},
   "source": [
    "Analyze the data"
   ]
  },
  {
   "cell_type": "code",
   "execution_count": 34,
   "metadata": {},
   "outputs": [
    {
     "name": "stdout",
     "output_type": "stream",
     "text": [
      "    severity                      start                        end\n",
      "3       high  2023-09-13T06:46:00+00:00  2023-09-13T10:32:00+00:00\n",
      "6       high  2023-09-11T11:00:00+00:00  2023-09-11T19:25:00+00:00\n",
      "29      high  2023-08-14T23:11:00+00:00  2023-08-15T18:22:00+00:00\n",
      "45      high  2023-07-28T17:17:00+00:00  2023-07-28T22:52:00+00:00\n",
      "144     high  2023-04-26T08:27:34+00:00  2023-04-26T09:18:36+00:00\n",
      "147     high  2023-04-26T06:45:00+00:00  2023-04-26T23:07:00+00:00\n",
      "148     high  2023-04-26T02:00:00+00:00  2023-04-27T00:05:00+00:00\n",
      "203     high  2023-03-09T09:30:00+00:00  2023-03-09T10:24:00+00:00\n",
      "209     high  2023-03-03T19:18:00+00:00  2023-03-03T20:45:00+00:00\n",
      "213     high  2023-02-27T12:58:00+00:00  2023-02-27T13:11:00+00:00\n",
      "276     high  2022-12-09T12:50:00+00:00  2022-12-09T15:55:00+00:00\n",
      "282     high  2022-12-02T01:30:00+00:00  2022-12-03T04:50:00+00:00\n",
      "283     high  2022-12-01T20:20:00+00:00  2022-12-01T21:36:00+00:00\n",
      "290     high  2022-11-14T18:50:00+00:00  2022-11-14T19:38:00+00:00\n",
      "328     high  2022-09-22T11:28:00+00:00  2022-09-22T11:50:00+00:00\n",
      "(15, 8)\n"
     ]
    }
   ],
   "source": [
    "res = df[df['severity'].isin([\"high\"])]\n",
    "print(res[['severity', 'start', 'end']])\n",
    "print(res.shape)"
   ]
  }
 ],
 "metadata": {
  "kernelspec": {
   "display_name": "Python 3",
   "language": "python",
   "name": "python3"
  },
  "language_info": {
   "codemirror_mode": {
    "name": "ipython",
    "version": 3
   },
   "file_extension": ".py",
   "mimetype": "text/x-python",
   "name": "python",
   "nbconvert_exporter": "python",
   "pygments_lexer": "ipython3",
   "version": "3.10.8"
  },
  "orig_nbformat": 4
 },
 "nbformat": 4,
 "nbformat_minor": 2
}
