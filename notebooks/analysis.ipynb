{
 "cells": [
  {
   "cell_type": "markdown",
   "metadata": {},
   "source": [
    "### Get Cloud outage data into dataframe\n",
    "\n",
    "First import the json and define column names and there mapping to json"
   ]
  },
  {
   "cell_type": "code",
   "execution_count": 33,
   "metadata": {},
   "outputs": [],
   "source": [
    "import json\n",
    "import pandas as pd\n",
    "\n",
    "COLS = {\"id\": \"id\",    \n",
    "        \"start\": \"begin\",\n",
    "        \"end\": \"end\",\n",
    "        \"severity\": \"severity\",\n",
    "        \"status\": \"status_impact\",\n",
    "        \"location\": (\"currently_affected_locations\", \"previously_affected_locations\"),\n",
    "        \"service_name\": \"service_name\",\n",
    "        \"number_affected_products\": \"affected_products\",\n",
    "        \"country\": None,\n",
    "    }\n",
    "\n",
    "with open(\"../json-data/incidents.json\") as file:\n",
    "    incidents_json = json.load(file)"
   ]
  },
  {
   "cell_type": "markdown",
   "metadata": {},
   "source": [
    "Create data frame and copy over the data"
   ]
  },
  {
   "cell_type": "code",
   "execution_count": 111,
   "metadata": {},
   "outputs": [],
   "source": [
    "data_centers = pd.read_csv(\"../data/data-centers.csv\", dtype={\n",
    "    'city': 'string','country':'string','id':'string'})\n",
    "data_centers = data_centers.set_index(\"id\")\n",
    "# print(data_centers)"
   ]
  },
  {
   "cell_type": "code",
   "execution_count": 114,
   "metadata": {},
   "outputs": [],
   "source": [
    "df = pd.DataFrame(data=[], columns=COLS.keys())\n",
    "\n",
    "for incident in incidents_json:\n",
    "    locations = [x[\"id\"] for x in incident.get(COLS[\"location\"][0]) + incident.get(COLS[\"location\"][1], None)]\n",
    "    # print([item for item in locations if item not in data_centers[\"id\"].to_list()])\n",
    "    countries = [data_centers.at[id, \"country\"] for id in locations]\n",
    "    \n",
    "    row = {\n",
    "        \"id\": incident.get(COLS[\"id\"], None),\n",
    "        \"start\": incident.get(COLS[\"start\"], None),\n",
    "        \"end\": incident.get(COLS[\"end\"], None),\n",
    "        \"severity\": incident.get(COLS[\"severity\"], None),\n",
    "        \"location\": locations,\n",
    "        \"country\": countries,\n",
    "        \"service_name\": incident.get(COLS[\"service_name\"]),\n",
    "        \"status\": incident.get(COLS[\"status\"], None),\n",
    "        \"number_affected_products\": len(incident.get(COLS[\"number_affected_products\"], []))\n",
    "    }\n",
    "    df.loc[len(df)] = row\n"
   ]
  },
  {
   "cell_type": "code",
   "execution_count": 117,
   "metadata": {},
   "outputs": [
    {
     "name": "stdout",
     "output_type": "stream",
     "text": [
      "                     id                      start                        end  \\\n",
      "0  PVePoauUpR6sgi79f7V1  2023-09-17T03:43:18+00:00  2023-09-17T04:51:53+00:00   \n",
      "1  EBxyHQgEPnbM3Syag5yL  2023-09-13T23:05:13+00:00                       None   \n",
      "2  MGpGgLVRbkS7P84D9mrZ  2023-09-13T08:03:41+00:00  2023-09-13T08:53:36+00:00   \n",
      "3  71zrZxw3PRkiNYhM1JsZ  2023-09-13T06:46:00+00:00  2023-09-13T10:32:00+00:00   \n",
      "4  mRFjk3tKPSUJfxA6okrv  2023-09-12T15:14:26+00:00  2023-09-12T21:26:57+00:00   \n",
      "\n",
      "  severity               status  \\\n",
      "0      low  SERVICE_INFORMATION   \n",
      "1      low  SERVICE_INFORMATION   \n",
      "2      low  SERVICE_INFORMATION   \n",
      "3     high       SERVICE_OUTAGE   \n",
      "4      low  SERVICE_INFORMATION   \n",
      "\n",
      "                                            location  \\\n",
      "0  [asia-east1, asia-east2, asia-northeast1, asia...   \n",
      "1  [asia-east1, asia-east2, asia-northeast1, asia...   \n",
      "2                                      [us-central1]   \n",
      "3                                      [us-central1]   \n",
      "4                                  [asia-northeast1]   \n",
      "\n",
      "               service_name  number_affected_products  \\\n",
      "0     Google Compute Engine                         1   \n",
      "1  Google Kubernetes Engine                         1   \n",
      "2         Multiple Products                         2   \n",
      "3         Multiple Products                         7   \n",
      "4         Multiple Products                         2   \n",
      "\n",
      "                                             country  \n",
      "0  [Taiwan, Hong Kong, Japan, Japan, South Korea,...  \n",
      "1  [Taiwan, Hong Kong, Japan, Japan, South Korea,...  \n",
      "2                                             [Iowa]  \n",
      "3                                             [Iowa]  \n",
      "4                                            [Japan]  \n"
     ]
    }
   ],
   "source": [
    "print(df.head())"
   ]
  },
  {
   "cell_type": "markdown",
   "metadata": {},
   "source": [
    "Analyze the data"
   ]
  },
  {
   "cell_type": "code",
   "execution_count": 119,
   "metadata": {},
   "outputs": [
    {
     "name": "stdout",
     "output_type": "stream",
     "text": [
      "    severity                      start                        end  \\\n",
      "3       high  2023-09-13T06:46:00+00:00  2023-09-13T10:32:00+00:00   \n",
      "6       high  2023-09-11T11:00:00+00:00  2023-09-11T19:25:00+00:00   \n",
      "29      high  2023-08-14T23:11:00+00:00  2023-08-15T18:22:00+00:00   \n",
      "45      high  2023-07-28T17:17:00+00:00  2023-07-28T22:52:00+00:00   \n",
      "144     high  2023-04-26T08:27:34+00:00  2023-04-26T09:18:36+00:00   \n",
      "147     high  2023-04-26T06:45:00+00:00  2023-04-26T23:07:00+00:00   \n",
      "148     high  2023-04-26T02:00:00+00:00  2023-04-27T00:05:00+00:00   \n",
      "203     high  2023-03-09T09:30:00+00:00  2023-03-09T10:24:00+00:00   \n",
      "209     high  2023-03-03T19:18:00+00:00  2023-03-03T20:45:00+00:00   \n",
      "213     high  2023-02-27T12:58:00+00:00  2023-02-27T13:11:00+00:00   \n",
      "276     high  2022-12-09T12:50:00+00:00  2022-12-09T15:55:00+00:00   \n",
      "282     high  2022-12-02T01:30:00+00:00  2022-12-03T04:50:00+00:00   \n",
      "283     high  2022-12-01T20:20:00+00:00  2022-12-01T21:36:00+00:00   \n",
      "290     high  2022-11-14T18:50:00+00:00  2022-11-14T19:38:00+00:00   \n",
      "328     high  2022-09-22T11:28:00+00:00  2022-09-22T11:50:00+00:00   \n",
      "\n",
      "                                               country  \n",
      "3                                               [Iowa]  \n",
      "6    [Taiwan, Hong Kong, Japan, Japan, South Korea,...  \n",
      "29                                            [Canada]  \n",
      "45   [Japan, India, Singapore, Australia, Belgium, ...  \n",
      "144                                                 []  \n",
      "147                                        [CR-Global]  \n",
      "148                                            [Spain]  \n",
      "203                                                 []  \n",
      "209                                                 []  \n",
      "213  [Taiwan, Hong Kong, Japan, Japan, South Korea,...  \n",
      "276  [Taiwan, Hong Kong, Japan, Japan, South Korea,...  \n",
      "282  [Taiwan, Hong Kong, Japan, Japan, South Korea,...  \n",
      "283                                                 []  \n",
      "290                                        [CR-Global]  \n",
      "328                     [Iowa, South Carolina, Oregon]  \n",
      "(15, 9)\n"
     ]
    }
   ],
   "source": [
    "res = df[df['severity'].isin([\"high\"])]\n",
    "print(res[['severity', 'start', 'end', 'country']])\n",
    "print(res.shape)"
   ]
  }
 ],
 "metadata": {
  "kernelspec": {
   "display_name": "Python 3",
   "language": "python",
   "name": "python3"
  },
  "language_info": {
   "codemirror_mode": {
    "name": "ipython",
    "version": 3
   },
   "file_extension": ".py",
   "mimetype": "text/x-python",
   "name": "python",
   "nbconvert_exporter": "python",
   "pygments_lexer": "ipython3",
   "version": "3.11.5"
  },
  "orig_nbformat": 4
 },
 "nbformat": 4,
 "nbformat_minor": 2
}
