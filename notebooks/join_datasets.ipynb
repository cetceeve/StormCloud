{
 "cells": [
  {
   "cell_type": "markdown",
   "metadata": {},
   "source": [
    "# Join Datasets"
   ]
  },
  {
   "cell_type": "code",
   "execution_count": null,
   "metadata": {},
   "outputs": [],
   "source": [
    "import pandas as pd\n",
    "\n",
    "# load data\n",
    "df_cloud = pd.read_csv(\"../data/incidentsByDateCountry.csv\")\n",
    "df_strom = pd.read_csv(\"../storms_pre_processed.csv\")\n",
    "df_strom = df_strom.rename(columns={\"Country\": \"country\"})\n",
    "\n",
    "df_strom[\"country\"].replace(\n",
    "    to_replace={\"United Kingdom of Great Britain and Northern Ireland (the)\": \"United Kingdom\",\n",
    "                \"Korea (the Republic of)\": \"South Korea\",\n",
    "                \"United States of America (the)\": \"USA\",\n",
    "                \"Taiwan (Province of China)\": \"Taiwan\",\n",
    "                \"Netherlands (the)\": \"Netherlands\",\n",
    "                \"Qatar\": \"Katar\"\n",
    "                }, inplace=True)\n",
    "\n",
    "df_joined = pd.merge(df_cloud, df_strom, on=[\"date\", \"country\"], how=\"inner\")\n",
    "\n",
    "#print(sorted(df_cloud[\"country\"].drop_duplicates().dropna().to_list()))\n",
    "#print(sorted(df_strom[\"country\"].drop_duplicates().dropna().to_list()))\n",
    "#print(sorted(df_joined[\"country\"].drop_duplicates().dropna().to_list()))\n",
    "cloud_set = set(df_cloud[\"country\"].drop_duplicates().dropna().to_list())\n",
    "joined_set = set(df_joined[\"country\"].drop_duplicates().dropna().to_list())\n",
    "not_intersection = joined_set ^ cloud_set\n",
    "print(not_intersection)\n",
    "print(df_cloud.shape)\n",
    "print(df_strom.shape)\n",
    "print(df_joined.shape)"
   ]
  },
  {
   "cell_type": "code",
   "execution_count": null,
   "metadata": {},
   "outputs": [],
   "source": [
    "df_joined.to_csv(\"../data/full.csv\")"
   ]
  }
 ],
 "metadata": {
  "language_info": {
   "name": "python"
  }
 },
 "nbformat": 4,
 "nbformat_minor": 2
}
