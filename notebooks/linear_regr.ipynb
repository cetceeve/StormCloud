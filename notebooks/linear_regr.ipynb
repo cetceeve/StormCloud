{
 "cells": [
  {
   "cell_type": "markdown",
   "metadata": {},
   "source": [
    "# Analysis"
   ]
  },
  {
   "cell_type": "markdown",
   "metadata": {},
   "source": [
    "## Load data"
   ]
  },
  {
   "cell_type": "code",
   "execution_count": 81,
   "metadata": {},
   "outputs": [],
   "source": [
    "import pandas as pd\n",
    "df = pd.read_csv(\"../data/full.csv\")"
   ]
  },
  {
   "cell_type": "code",
   "execution_count": 21,
   "metadata": {},
   "outputs": [
    {
     "name": "stdout",
     "output_type": "stream",
     "text": [
      "Index(['Unnamed: 0', 'Unnamed: 0_x', 'date', 'country', 'id', 'start', 'end',\n",
      "       'severity', 'status', 'location', 'service_name',\n",
      "       'number_affected_products', 'city', 'Unnamed: 0_y', 'Start Date',\n",
      "       'End Date', 'Geo Locations', 'Disaster Type', 'Total Damages',\n",
      "       'Total Deaths', 'Total Affected', 'outage_duration_secs',\n",
      "       'weather_duration_days', 'norm_severity', 'norm_duration',\n",
      "       'norm_num_aff_prod', 'enc_severity', 'z_norm_severity',\n",
      "       'z_norm_duration', 'z_norm_num_aff_prod', 'cont_dependent',\n",
      "       'z_cont_dependent'],\n",
      "      dtype='object')\n"
     ]
    }
   ],
   "source": [
    "print(df.columns)"
   ]
  },
  {
   "cell_type": "markdown",
   "metadata": {},
   "source": [
    "## Cleaning"
   ]
  },
  {
   "cell_type": "markdown",
   "metadata": {},
   "source": [
    "Remove rows that are not interesting to us"
   ]
  },
  {
   "cell_type": "code",
   "execution_count": 82,
   "metadata": {},
   "outputs": [
    {
     "name": "stdout",
     "output_type": "stream",
     "text": [
      "Removed 92085/204834 where outage and weather event were NaN.\n"
     ]
    }
   ],
   "source": [
    "# remove USA because it is to big\n",
    "df = df.drop(df[df[\"country\"] == \"USA\"].index)\n",
    "# remove lines without infromation\n",
    "old_size = df.size\n",
    "df = df.dropna(subset=[\"id\", \"Disaster Type\"], how=\"all\")\n",
    "print(f\"Removed {old_size - df.size}/{old_size} where outage and weather event were NaN.\")"
   ]
  },
  {
   "cell_type": "markdown",
   "metadata": {},
   "source": [
    "Convert dates that represent string to actual dates"
   ]
  },
  {
   "cell_type": "code",
   "execution_count": 83,
   "metadata": {},
   "outputs": [],
   "source": [
    "# longest disaster duration\n",
    "df[\"Start Date\"] = pd.to_datetime(df[\"Start Date\"], errors=\"coerce\")\n",
    "df[\"End Date\"] = pd.to_datetime(df[\"End Date\"], errors=\"coerce\")\n",
    "df[\"start\"] = pd.to_datetime(df[\"start\"], errors=\"coerce\")\n",
    "df[\"end\"] = pd.to_datetime(df[\"end\"], errors=\"coerce\")"
   ]
  },
  {
   "cell_type": "markdown",
   "metadata": {},
   "source": [
    "Add information about the duration of outages and weather events"
   ]
  },
  {
   "cell_type": "code",
   "execution_count": 84,
   "metadata": {},
   "outputs": [],
   "source": [
    "df[\"outage_duration_secs\"] = (df[\"end\"] - df[\"start\"]).dt.seconds\n",
    "df[\"weather_duration_days\"] = (df[\"End Date\"] - df[\"Start Date\"]).dt.days\n",
    "# because wather events that were on one day only shouldn't be zero we add one day to all\n",
    "df[\"weather_duration_days\"] += 1"
   ]
  },
  {
   "cell_type": "markdown",
   "metadata": {},
   "source": [
    "Remove incidents that are just too long to have any meaningful correlation"
   ]
  },
  {
   "cell_type": "code",
   "execution_count": 85,
   "metadata": {},
   "outputs": [],
   "source": [
    "# weather events that took longer than 2 weeks\n",
    "df = df.drop(df[df[\"weather_duration_days\"] > 14].index)"
   ]
  },
  {
   "cell_type": "markdown",
   "metadata": {},
   "source": [
    "## Encoding\n",
    "\n",
    "### Dependent Variable"
   ]
  },
  {
   "cell_type": "markdown",
   "metadata": {},
   "source": [
    "**Deprecated:** Boolean encoding where 1 if cloud outage severity is either high or medium."
   ]
  },
  {
   "cell_type": "code",
   "execution_count": 86,
   "metadata": {},
   "outputs": [
    {
     "name": "stdout",
     "output_type": "stream",
     "text": [
      "5186\n",
      "5049\n",
      "3837\n"
     ]
    }
   ],
   "source": [
    "# Take only outages with midium or high severity into consideration\n",
    "df[\"dependent\"] = 0\n",
    "df.loc[df[\"severity\"]== \"low\", \"dependent\"] = 1\n",
    "df.loc[df[\"severity\"] == \"medium\", \"dependent\"] = 2\n",
    "df.loc[df[\"severity\"] == \"high\", \"dependent\"] = 3\n",
    "# Take all outages into account\n",
    "df[\"dep_bool\"] = 1\n",
    "df.loc[df[\"id\"].isnull(), \"dep_bool\"] = 0\n",
    "\n",
    "# explore depdendent variable\n",
    "print(df.shape[0])\n",
    "print(df.loc[df[\"dep_bool\"] == 1, \"dep_bool\"].count())\n",
    "print(df.loc[df[\"dependent\"] == 1, \"dependent\"].count())"
   ]
  },
  {
   "cell_type": "markdown",
   "metadata": {},
   "source": [
    "Create a continous variable representing outage severity on a scale from 0 to 1.\n",
    "\n",
    "We have three factors influencing our final score:\n",
    "- severity\n",
    "- outage duraction\n",
    "- number of affected services"
   ]
  },
  {
   "cell_type": "code",
   "execution_count": 87,
   "metadata": {},
   "outputs": [],
   "source": [
    "WEIGHTS = {\n",
    "    \"severity\": 0.5,\n",
    "    \"duration\": 0.4,\n",
    "    \"numAffProd\": 0.1,\n",
    "    \"damages\": 0.5,\n",
    "    \"deaths\": 0.4,\n",
    "    \"affected\": 0.1,\n",
    "}"
   ]
  },
  {
   "cell_type": "markdown",
   "metadata": {},
   "source": [
    "First we need to nomarlize the inputs"
   ]
  },
  {
   "cell_type": "code",
   "execution_count": 88,
   "metadata": {},
   "outputs": [],
   "source": [
    "# min-max normalization\n",
    "\n",
    "# since severity is not continous we can normalize with the encoding\n",
    "df.loc[df[\"severity\"]== \"low\", \"norm_severity\"] = 0\n",
    "df.loc[df[\"severity\"] == \"medium\", \"norm_severity\"] = 0.5\n",
    "df.loc[df[\"severity\"] == \"high\", \"norm_severity\"] = 1\n",
    "\n",
    "# min-max normalisation for continous values\n",
    "df[\"norm_duration\"] = (df[\"outage_duration_secs\"] - df[\"outage_duration_secs\"].min()) / (df[\"outage_duration_secs\"].max() - df[\"outage_duration_secs\"].min())\n",
    "df[\"norm_num_aff_prod\"] = (df[\"number_affected_products\"] - df[\"number_affected_products\"].min()) / (df[\"number_affected_products\"].max() - df[\"number_affected_products\"].min())"
   ]
  },
  {
   "cell_type": "code",
   "execution_count": 89,
   "metadata": {},
   "outputs": [],
   "source": [
    "# z-score normalisation\n",
    "\n",
    "# since severity is not continous we can normalize with the encoding\n",
    "df.loc[df[\"severity\"]== \"low\", \"enc_severity\"] = 0\n",
    "df.loc[df[\"severity\"] == \"medium\", \"enc_severity\"] = 1\n",
    "df.loc[df[\"severity\"] == \"high\", \"enc_severity\"] = 2\n",
    "\n",
    "\n",
    "# normalisation by z-score method\n",
    "df[\"z_norm_severity\"] = (df[\"enc_severity\"] - df[\"enc_severity\"].mean()) / df[\"enc_severity\"].std()\n",
    "df[\"z_norm_duration\"] = (df[\"outage_duration_secs\"] - df[\"outage_duration_secs\"].mean()) / df[\"outage_duration_secs\"].std()\n",
    "df[\"z_norm_num_aff_prod\"] = (df[\"number_affected_products\"] - df[\"number_affected_products\"].mean()) / df[\"number_affected_products\"].std()"
   ]
  },
  {
   "cell_type": "markdown",
   "metadata": {},
   "source": [
    "Create final score by multiplying normalized values with their weights and pumping them through the logistic function."
   ]
  },
  {
   "cell_type": "code",
   "execution_count": 90,
   "metadata": {},
   "outputs": [],
   "source": [
    "df[\"cont_dependent\"] = (df[\"norm_severity\"] * WEIGHTS[\"severity\"] + \\\n",
    "                       df[\"norm_duration\"] * WEIGHTS[\"duration\"] + \\\n",
    "                       df[\"norm_num_aff_prod\"] * WEIGHTS[\"numAffProd\"])\n",
    "\n",
    "df[\"z_cont_dependent\"] = (df[\"z_norm_severity\"] * WEIGHTS[\"severity\"] + \\\n",
    "                       df[\"z_norm_duration\"] * WEIGHTS[\"duration\"] + \\\n",
    "                       df[\"z_norm_num_aff_prod\"] * WEIGHTS[\"numAffProd\"])\n",
    "# min-max normalized values need to be scaled onto a 0 to 1 scale\n",
    "df[\"cont_dependent\"] = (df[\"cont_dependent\"] - df[\"cont_dependent\"].min()) / (df[\"cont_dependent\"].max() - df[\"cont_dependent\"].min())\n",
    "\n",
    "# replace NaN with simply 0\n",
    "df[\"cont_dependent\"] = df[\"cont_dependent\"].fillna(0)\n",
    "df[\"z_cont_dependent\"] = df[\"z_cont_dependent\"].fillna(0)"
   ]
  },
  {
   "cell_type": "code",
   "execution_count": 76,
   "metadata": {},
   "outputs": [
    {
     "data": {
      "text/plain": [
       "[]"
      ]
     },
     "execution_count": 76,
     "metadata": {},
     "output_type": "execute_result"
    },
    {
     "data": {
      "image/png": "[encoded data removed]",
      "text/plain": [
       "<Figure size 640x480 with 1 Axes>"
      ]
     },
     "metadata": {},
     "output_type": "display_data"
    }
   ],
   "source": [
    "# Print dependent variable\n",
    "import numpy as np\n",
    "import matplotlib.pyplot as plt\n",
    "\n",
    "# plot the data\n",
    "plt.boxplot(df[\"cont_dependent\"])\n",
    "\n",
    "plt.plot()"
   ]
  },
  {
   "cell_type": "markdown",
   "metadata": {},
   "source": [
    "### Independent variable"
   ]
  },
  {
   "cell_type": "code",
   "execution_count": 91,
   "metadata": {},
   "outputs": [],
   "source": [
    "# Normalise the desired variables\n",
    "df[\"norm_damages\"] = (df[\"Total Damages\"] - df[\"Total Damages\"].min()) / (df[\"Total Damages\"].max() - df[\"Total Damages\"].min())\n",
    "df[\"norm_deaths\"] = (df[\"Total Deaths\"] - df[\"Total Deaths\"].min()) / (df[\"Total Deaths\"].max() - df[\"Total Deaths\"].min())\n",
    "df[\"norm_affected\"] = (df[\"Total Affected\"] - df[\"Total Affected\"].min()) / (df[\"Total Affected\"].max() - df[\"Total Affected\"].min())\n",
    "\n",
    "# normalisation by z-score method\n",
    "df[\"z_norm_damages\"] = (df[\"Total Damages\"] - df[\"Total Damages\"].mean()) / df[\"Total Damages\"].std()\n",
    "df[\"z_norm_deaths\"] = (df[\"Total Deaths\"] - df[\"Total Deaths\"].mean()) / df[\"Total Deaths\"].std()\n",
    "df[\"z_norm_affected\"] = (df[\"Total Affected\"] - df[\"Total Affected\"].mean()) / df[\"Total Affected\"].std()"
   ]
  },
  {
   "cell_type": "code",
   "execution_count": 92,
   "metadata": {},
   "outputs": [],
   "source": [
    "# replace NaN with 0\n",
    "df[\"norm_damages\"] = df[\"norm_damages\"].fillna(0)\n",
    "df[\"norm_deaths\"] = df[\"norm_deaths\"].fillna(0)\n",
    "df[\"norm_affected\"] = df[\"norm_affected\"].fillna(0)\n",
    "df[\"z_norm_damages\"] = df[\"z_norm_damages\"].fillna(0)\n",
    "df[\"z_norm_deaths\"] = df[\"z_norm_deaths\"].fillna(0)\n",
    "df[\"z_norm_affected\"] = df[\"z_norm_affected\"].fillna(0)\n",
    "\n",
    "# compute weighted score\n",
    "df[\"cont_independent\"] = (df[\"norm_damages\"] * WEIGHTS[\"damages\"] + \\\n",
    "                       df[\"norm_deaths\"] * WEIGHTS[\"deaths\"] + \\\n",
    "                       df[\"norm_affected\"] * WEIGHTS[\"affected\"])\n",
    "\n",
    "df[\"z_cont_independent\"] = (df[\"z_norm_damages\"] * WEIGHTS[\"damages\"] + \\\n",
    "                       df[\"z_norm_deaths\"] * WEIGHTS[\"deaths\"] + \\\n",
    "                       df[\"z_norm_affected\"] * WEIGHTS[\"affected\"])\n"
   ]
  },
  {
   "cell_type": "code",
   "execution_count": 52,
   "metadata": {},
   "outputs": [
    {
     "data": {
      "text/plain": [
       "[]"
      ]
     },
     "execution_count": 52,
     "metadata": {},
     "output_type": "execute_result"
    },
    {
     "data": {
      "image/png": "[encoded data removed]",
      "text/plain": [
       "<Figure size 640x480 with 1 Axes>"
      ]
     },
     "metadata": {},
     "output_type": "display_data"
    }
   ],
   "source": [
    "# Print independent variable\n",
    "import numpy as np\n",
    "import matplotlib.pyplot as plt\n",
    "\n",
    "# plot the data\n",
    "plt.boxplot(df[[\"cont_independent\"]])\n",
    "# plt.scatter(df[\"cont_independent\"], df[\"cont_independent\"])\n",
    "\n",
    "plt.plot()"
   ]
  },
  {
   "cell_type": "markdown",
   "metadata": {},
   "source": [
    "## Linear regression"
   ]
  },
  {
   "cell_type": "code",
   "execution_count": null,
   "metadata": {},
   "outputs": [],
   "source": [
    "# failed experiment\n",
    "# df_final = df[df[[\"cont_independent\"]] > 0.1]\n",
    "# df_final[\"cont_dependent\"] = df_final[\"cont_dependent\"].fillna(0)\n",
    "# df_final = df_final.dropna(subset=[\"cont_independent\"])\n",
    "# print(df_final.size)\n",
    "# print(df_final)"
   ]
  },
  {
   "cell_type": "code",
   "execution_count": 100,
   "metadata": {},
   "outputs": [
    {
     "name": "stdout",
     "output_type": "stream",
     "text": [
      "Coefficients: \n",
      " [-0.]\n",
      "                            OLS Regression Results                            \n",
      "==============================================================================\n",
      "Dep. Variable:                      y   R-squared:                         nan\n",
      "Model:                            OLS   Adj. R-squared:                    nan\n",
      "Method:                 Least Squares   F-statistic:                       nan\n",
      "Date:                Fri, 06 Oct 2023   Prob (F-statistic):                nan\n",
      "Time:                        14:04:26   Log-Likelihood:                    inf\n",
      "No. Observations:                  15   AIC:                              -inf\n",
      "Df Residuals:                      13   BIC:                              -inf\n",
      "Df Model:                           1                                         \n",
      "Covariance Type:            nonrobust                                         \n",
      "==============================================================================\n",
      "                 coef    std err          t      P>|t|      [0.025      0.975]\n",
      "------------------------------------------------------------------------------\n",
      "const               0          0        nan        nan           0           0\n",
      "x1                  0          0        nan        nan           0           0\n",
      "==============================================================================\n",
      "Omnibus:                          nan   Durbin-Watson:                     nan\n",
      "Prob(Omnibus):                    nan   Jarque-Bera (JB):                  nan\n",
      "Skew:                             nan   Prob(JB):                          nan\n",
      "Kurtosis:                         nan   Cond. No.                         5.91\n",
      "==============================================================================\n",
      "\n",
      "Notes:\n",
      "[1] Standard Errors assume that the covariance matrix of the errors is correctly specified.\n"
     ]
    },
    {
     "name": "stderr",
     "output_type": "stream",
     "text": [
      "/opt/homebrew/lib/python3.11/site-packages/scipy/stats/_stats_py.py:1806: UserWarning: kurtosistest only valid for n>=20 ... continuing anyway, n=15\n",
      "  warnings.warn(\"kurtosistest only valid for n>=20 ... continuing \"\n",
      "/opt/homebrew/lib/python3.11/site-packages/statsmodels/regression/linear_model.py:1781: RuntimeWarning: invalid value encountered in scalar divide\n",
      "  return 1 - self.ssr/self.centered_tss\n",
      "/opt/homebrew/lib/python3.11/site-packages/statsmodels/regression/linear_model.py:1870: RuntimeWarning: invalid value encountered in scalar divide\n",
      "  return self.mse_model/self.mse_resid\n",
      "/opt/homebrew/lib/python3.11/site-packages/statsmodels/regression/linear_model.py:956: RuntimeWarning: divide by zero encountered in log\n",
      "  llf = -nobs2*np.log(2*np.pi) - nobs2*np.log(ssr / nobs) - nobs2\n",
      "/opt/homebrew/lib/python3.11/site-packages/statsmodels/stats/stattools.py:50: RuntimeWarning: invalid value encountered in scalar divide\n",
      "  dw = np.sum(diff_resids**2, axis=axis) / np.sum(resids**2, axis=axis)\n"
     ]
    },
    {
     "data": {
      "image/png": "[encoded data removed]",
      "text/plain": [
       "<Figure size 640x480 with 1 Axes>"
      ]
     },
     "metadata": {},
     "output_type": "display_data"
    }
   ],
   "source": [
    "import numpy as np\n",
    "import matplotlib.pyplot as plt\n",
    "from sklearn import linear_model\n",
    "import statsmodels.api as sm\n",
    "\n",
    "# plot the data\n",
    "plt.scatter(df[\"cont_independent\"], df[\"cont_dependent\"], )\n",
    "plt.xlabel(\"damage affected\")\n",
    "plt.ylabel(\"outages\")\n",
    "# plt.savefig(\"outages_weather_scatter.png\")\n",
    "\n",
    "\n",
    "# model using linear regression\n",
    "X = df[\"cont_independent\"].to_numpy().reshape(-1, 1)\n",
    "Y = df[\"cont_dependent\"].to_numpy()\n",
    "reg = linear_model.LinearRegression()\n",
    "reg.fit(X, Y)\n",
    "print(\"Coefficients: \\n\", reg.coef_)\n",
    "\n",
    "predicted_Y = reg.predict(X)\n",
    "\n",
    "plt.plot(X, predicted_Y, color=\"red\")\n",
    "\n",
    "\n",
    "X = sm.add_constant(X) # add const to allow for constant offset of gradient\n",
    "stats_results = sm.OLS(Y, X).fit()\n",
    "print(stats_results.summary())"
   ]
  }
 ],
 "metadata": {
  "kernelspec": {
   "display_name": "Python 3",
   "language": "python",
   "name": "python3"
  },
  "language_info": {
   "codemirror_mode": {
    "name": "ipython",
    "version": 3
   },
   "file_extension": ".py",
   "mimetype": "text/x-python",
   "name": "python",
   "nbconvert_exporter": "python",
   "pygments_lexer": "ipython3",
   "version": "3.11.5"
  },
  "orig_nbformat": 4
 },
 "nbformat": 4,
 "nbformat_minor": 2
}
