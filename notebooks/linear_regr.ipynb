{
 "cells": [
  {
   "cell_type": "markdown",
   "metadata": {},
   "source": [
    "# Analysis"
   ]
  },
  {
   "cell_type": "markdown",
   "metadata": {},
   "source": [
    "## Load data"
   ]
  },
  {
   "cell_type": "code",
   "execution_count": 222,
   "metadata": {},
   "outputs": [],
   "source": [
    "import pandas as pd\n",
    "df = pd.read_csv(\"../data/full.csv\")"
   ]
  },
  {
   "cell_type": "code",
   "execution_count": 223,
   "metadata": {},
   "outputs": [
    {
     "name": "stdout",
     "output_type": "stream",
     "text": [
      "Index(['Unnamed: 0', 'Unnamed: 0_x', 'date', 'country', 'id', 'start', 'end',\n",
      "       'severity', 'status', 'location', 'service_name',\n",
      "       'number_affected_products', 'city', 'Unnamed: 0_y', 'Start Date',\n",
      "       'End Date', 'Geo Locations', 'Disaster Type', 'Total Damages',\n",
      "       'Total Deaths', 'Total Affected'],\n",
      "      dtype='object')\n"
     ]
    }
   ],
   "source": [
    "print(df.columns)"
   ]
  },
  {
   "cell_type": "markdown",
   "metadata": {},
   "source": [
    "## Cleaning"
   ]
  },
  {
   "cell_type": "markdown",
   "metadata": {},
   "source": [
    "Remove rows that are not interesting to us"
   ]
  },
  {
   "cell_type": "code",
   "execution_count": 224,
   "metadata": {},
   "outputs": [],
   "source": [
    "# remove USA because it is to big\n",
    "df = df.drop(df[df[\"country\"] == \"USA\"].index)\n",
    "# remove lines without infromation\n",
    "# old_size = df.size\n",
    "# df = df.dropna(subset=[\"id\", \"Disaster Type\"], how=\"all\")\n",
    "# print(f\"Removed {old_size - df.size}/{old_size} where outage and weather event were NaN.\")"
   ]
  },
  {
   "cell_type": "markdown",
   "metadata": {},
   "source": [
    "Convert dates that represent string to actual dates"
   ]
  },
  {
   "cell_type": "code",
   "execution_count": 225,
   "metadata": {},
   "outputs": [],
   "source": [
    "# longest disaster duration\n",
    "df[\"Start Date\"] = pd.to_datetime(df[\"Start Date\"], errors=\"coerce\")\n",
    "df[\"End Date\"] = pd.to_datetime(df[\"End Date\"], errors=\"coerce\")\n",
    "df[\"start\"] = pd.to_datetime(df[\"start\"], errors=\"coerce\")\n",
    "df[\"end\"] = pd.to_datetime(df[\"end\"], errors=\"coerce\")"
   ]
  },
  {
   "cell_type": "markdown",
   "metadata": {},
   "source": [
    "Add information about the duration of outages and weather events"
   ]
  },
  {
   "cell_type": "code",
   "execution_count": 226,
   "metadata": {},
   "outputs": [],
   "source": [
    "df[\"outage_duration_secs\"] = (df[\"end\"] - df[\"start\"]).dt.seconds\n",
    "df[\"weather_duration_days\"] = (df[\"End Date\"] - df[\"Start Date\"]).dt.days\n",
    "# because wather events that were on one day only shouldn't be zero we add one day to all\n",
    "df[\"weather_duration_days\"] += 1"
   ]
  },
  {
   "cell_type": "markdown",
   "metadata": {},
   "source": [
    "Remove incidents that are just too long to have any meaningful correlation"
   ]
  },
  {
   "cell_type": "code",
   "execution_count": 227,
   "metadata": {},
   "outputs": [],
   "source": [
    "# weather events that took longer than 2 weeks\n",
    "df = df.drop(df[df[\"weather_duration_days\"] > 14].index)"
   ]
  },
  {
   "cell_type": "code",
   "execution_count": 250,
   "metadata": {},
   "outputs": [
    {
     "data": {
      "text/plain": [
       "9571"
      ]
     },
     "execution_count": 250,
     "metadata": {},
     "output_type": "execute_result"
    }
   ],
   "source": [
    "df[\"country\"].size"
   ]
  },
  {
   "cell_type": "markdown",
   "metadata": {},
   "source": [
    "## Encoding\n",
    "\n",
    "### Dependent Variable"
   ]
  },
  {
   "cell_type": "markdown",
   "metadata": {},
   "source": [
    "Create a continous variable representing outage severity on a scale from 0 to 1.\n",
    "\n",
    "We have three factors influencing our final score:\n",
    "- severity\n",
    "- outage duraction\n",
    "- number of affected services"
   ]
  },
  {
   "cell_type": "code",
   "execution_count": 228,
   "metadata": {},
   "outputs": [],
   "source": [
    "WEIGHTS = {\n",
    "    \"severity\": 0.5,\n",
    "    \"duration\": 0.4,\n",
    "    \"numAffProd\": 0.1,\n",
    "    \"damages\": 0.5,\n",
    "    \"deaths\": 0.4,\n",
    "    \"affected\": 0.1,\n",
    "}"
   ]
  },
  {
   "cell_type": "markdown",
   "metadata": {},
   "source": [
    "First we need to nomarlize the inputs"
   ]
  },
  {
   "cell_type": "code",
   "execution_count": 229,
   "metadata": {},
   "outputs": [],
   "source": [
    "# min-max normalization\n",
    "\n",
    "# since severity is not continous we can normalize with the encoding\n",
    "df.loc[df[\"severity\"]== \"low\", \"norm_severity\"] = 0\n",
    "df.loc[df[\"severity\"] == \"medium\", \"norm_severity\"] = 0.5\n",
    "df.loc[df[\"severity\"] == \"high\", \"norm_severity\"] = 1\n",
    "\n",
    "# min-max normalisation for continous values\n",
    "df[\"norm_duration\"] = (df[\"outage_duration_secs\"] - df[\"outage_duration_secs\"].min()) / (df[\"outage_duration_secs\"].max() - df[\"outage_duration_secs\"].min())\n",
    "df[\"norm_num_aff_prod\"] = (df[\"number_affected_products\"] - df[\"number_affected_products\"].min()) / (df[\"number_affected_products\"].max() - df[\"number_affected_products\"].min())"
   ]
  },
  {
   "cell_type": "code",
   "execution_count": 230,
   "metadata": {},
   "outputs": [],
   "source": [
    "# z-score normalisation\n",
    "\n",
    "# since severity is not continous we can normalize with the encoding\n",
    "df.loc[df[\"severity\"]== \"low\", \"enc_severity\"] = 0\n",
    "df.loc[df[\"severity\"] == \"medium\", \"enc_severity\"] = 1\n",
    "df.loc[df[\"severity\"] == \"high\", \"enc_severity\"] = 2\n",
    "\n",
    "\n",
    "# normalisation by z-score method\n",
    "df[\"z_norm_severity\"] = (df[\"enc_severity\"] - df[\"enc_severity\"].mean()) / df[\"enc_severity\"].std()\n",
    "df[\"z_norm_duration\"] = (df[\"outage_duration_secs\"] - df[\"outage_duration_secs\"].mean()) / df[\"outage_duration_secs\"].std()\n",
    "df[\"z_norm_num_aff_prod\"] = (df[\"number_affected_products\"] - df[\"number_affected_products\"].mean()) / df[\"number_affected_products\"].std()"
   ]
  },
  {
   "cell_type": "markdown",
   "metadata": {},
   "source": [
    "Create final score by multiplying normalized values with their weights and pumping them through the logistic function."
   ]
  },
  {
   "cell_type": "code",
   "execution_count": 231,
   "metadata": {},
   "outputs": [],
   "source": [
    "df[\"cont_dependent\"] = (df[\"norm_severity\"] * WEIGHTS[\"severity\"] + \\\n",
    "                       df[\"norm_duration\"] * WEIGHTS[\"duration\"] + \\\n",
    "                       df[\"norm_num_aff_prod\"] * WEIGHTS[\"numAffProd\"])\n",
    "\n",
    "df[\"z_cont_dependent\"] = (df[\"z_norm_severity\"] * WEIGHTS[\"severity\"] + \\\n",
    "                       df[\"z_norm_duration\"] * WEIGHTS[\"duration\"] + \\\n",
    "                       df[\"z_norm_num_aff_prod\"] * WEIGHTS[\"numAffProd\"])\n",
    "# min-max normalized values need to be scaled onto a 0 to 1 scale\n",
    "df[\"cont_dependent\"] = (df[\"cont_dependent\"] - df[\"cont_dependent\"].min()) / (df[\"cont_dependent\"].max() - df[\"cont_dependent\"].min())\n",
    "\n",
    "# replace NaN with simply 0\n",
    "df[\"cont_dependent\"] = df[\"cont_dependent\"].fillna(0)\n",
    "df[\"z_cont_dependent\"] = df[\"z_cont_dependent\"].fillna(0)"
   ]
  },
  {
   "cell_type": "code",
   "execution_count": 232,
   "metadata": {},
   "outputs": [
    {
     "data": {
      "text/plain": [
       "[]"
      ]
     },
     "execution_count": 232,
     "metadata": {},
     "output_type": "execute_result"
    },
    {
     "data": {
      "image/png": "[encoded data removed]",
      "text/plain": [
       "<Figure size 640x480 with 1 Axes>"
      ]
     },
     "metadata": {},
     "output_type": "display_data"
    }
   ],
   "source": [
    "# Print dependent variable\n",
    "import numpy as np\n",
    "import matplotlib.pyplot as plt\n",
    "\n",
    "# plot the data\n",
    "fig,ax = plt.subplots(1)\n",
    "#weather plot the data\n",
    "plt.boxplot(df[[\"cont_dependent\"]])\n",
    "plt.xlabel(\"dependent variable\")\n",
    "ax.set_xticklabels([])\n",
    "\n",
    "plt.plot()"
   ]
  },
  {
   "cell_type": "markdown",
   "metadata": {},
   "source": [
    "### Independent variable"
   ]
  },
  {
   "cell_type": "code",
   "execution_count": 233,
   "metadata": {},
   "outputs": [],
   "source": [
    "# Normalise the desired variables\n",
    "df[\"norm_damages\"] = (df[\"Total Damages\"] - df[\"Total Damages\"].min()) / (df[\"Total Damages\"].max() - df[\"Total Damages\"].min())\n",
    "df[\"norm_deaths\"] = (df[\"Total Deaths\"] - df[\"Total Deaths\"].min()) / (df[\"Total Deaths\"].max() - df[\"Total Deaths\"].min())\n",
    "df[\"norm_affected\"] = (df[\"Total Affected\"] - df[\"Total Affected\"].min()) / (df[\"Total Affected\"].max() - df[\"Total Affected\"].min())\n",
    "\n",
    "# normalisation by z-score method\n",
    "df[\"z_norm_damages\"] = (df[\"Total Damages\"] - df[\"Total Damages\"].mean()) / df[\"Total Damages\"].std()\n",
    "df[\"z_norm_deaths\"] = (df[\"Total Deaths\"] - df[\"Total Deaths\"].mean()) / df[\"Total Deaths\"].std()\n",
    "df[\"z_norm_affected\"] = (df[\"Total Affected\"] - df[\"Total Affected\"].mean()) / df[\"Total Affected\"].std()"
   ]
  },
  {
   "cell_type": "code",
   "execution_count": 234,
   "metadata": {},
   "outputs": [],
   "source": [
    "# replace NaN with 0\n",
    "df[\"norm_damages\"] = df[\"norm_damages\"].fillna(0)\n",
    "df[\"norm_deaths\"] = df[\"norm_deaths\"].fillna(0)\n",
    "df[\"norm_affected\"] = df[\"norm_affected\"].fillna(0)\n",
    "df[\"z_norm_damages\"] = df[\"z_norm_damages\"].fillna(0)\n",
    "df[\"z_norm_deaths\"] = df[\"z_norm_deaths\"].fillna(0)\n",
    "df[\"z_norm_affected\"] = df[\"z_norm_affected\"].fillna(0)\n",
    "\n",
    "# compute weighted score\n",
    "df[\"cont_independent\"] = (df[\"norm_damages\"] * WEIGHTS[\"damages\"] + \\\n",
    "                       df[\"norm_deaths\"] * WEIGHTS[\"deaths\"] + \\\n",
    "                       df[\"norm_affected\"] * WEIGHTS[\"affected\"])\n",
    "\n",
    "df[\"z_cont_independent\"] = (df[\"z_norm_damages\"] * WEIGHTS[\"damages\"] + \\\n",
    "                       df[\"z_norm_deaths\"] * WEIGHTS[\"deaths\"] + \\\n",
    "                       df[\"z_norm_affected\"] * WEIGHTS[\"affected\"])\n"
   ]
  },
  {
   "cell_type": "code",
   "execution_count": 235,
   "metadata": {},
   "outputs": [
    {
     "data": {
      "text/plain": [
       "[]"
      ]
     },
     "execution_count": 235,
     "metadata": {},
     "output_type": "execute_result"
    },
    {
     "data": {
      "image/png": "[encoded data removed]",
      "text/plain": [
       "<Figure size 640x480 with 1 Axes>"
      ]
     },
     "metadata": {},
     "output_type": "display_data"
    }
   ],
   "source": [
    "# Print independent variable\n",
    "import numpy as np\n",
    "import matplotlib.pyplot as plt\n",
    "\n",
    "fig,ax = plt.subplots(1)\n",
    "#weather plot the data\n",
    "plt.boxplot(df[[\"cont_dependent\", \"cont_independent\"]])\n",
    "ax.set_xticklabels([\"dependent variable\", \"independent variable\"])\n",
    "\n",
    "plt.plot()"
   ]
  },
  {
   "cell_type": "markdown",
   "metadata": {},
   "source": [
    "### Map plot"
   ]
  },
  {
   "cell_type": "code",
   "execution_count": 256,
   "metadata": {},
   "outputs": [
    {
     "name": "stderr",
     "output_type": "stream",
     "text": [
      "/var/folders/fc/nmrtwsyj4cx9_51gmbxm2lb80000gn/T/ipykernel_20104/446962484.py:3: FutureWarning: The geopandas.dataset module is deprecated and will be removed in GeoPandas 1.0. You can get the original 'naturalearth_lowres' data from https://www.naturalearthdata.com/downloads/110m-cultural-vectors/.\n",
      "  world: pd.DataFrame = gpd.read_file(gpd.datasets.get_path('naturalearth_lowres'))\n"
     ]
    },
    {
     "data": {
      "image/png": "[encoded data removed]",
      "text/plain": [
       "<Figure size 640x480 with 2 Axes>"
      ]
     },
     "metadata": {},
     "output_type": "display_data"
    }
   ],
   "source": [
    "import geopandas as gpd\n",
    "\n",
    "world: pd.DataFrame = gpd.read_file(gpd.datasets.get_path('naturalearth_lowres'))\n",
    "outages_by_country = df[[\"country\", \"cont_dependent\"]].groupby(by=[\"country\"]).sum()\n",
    "merged_df = world.merge(outages_by_country, left_on=\"name\", right_on=\"country\")\n",
    "\n",
    "merged_df.plot(column=\"cont_dependent\", cmap=\"Blues\", legend=True)\n",
    "plt.show()"
   ]
  },
  {
   "cell_type": "code",
   "execution_count": 257,
   "metadata": {},
   "outputs": [
    {
     "name": "stderr",
     "output_type": "stream",
     "text": [
      "/var/folders/fc/nmrtwsyj4cx9_51gmbxm2lb80000gn/T/ipykernel_20104/1963735460.py:3: FutureWarning: The geopandas.dataset module is deprecated and will be removed in GeoPandas 1.0. You can get the original 'naturalearth_lowres' data from https://www.naturalearthdata.com/downloads/110m-cultural-vectors/.\n",
      "  world: pd.DataFrame = gpd.read_file(gpd.datasets.get_path('naturalearth_lowres'))\n"
     ]
    },
    {
     "ename": "KeyError",
     "evalue": "'cont_dependent'",
     "output_type": "error",
     "traceback": [
      "\u001b[0;31m---------------------------------------------------------------------------\u001b[0m",
      "\u001b[0;31mKeyError\u001b[0m                                  Traceback (most recent call last)",
      "File \u001b[0;32m/opt/homebrew/lib/python3.11/site-packages/pandas/core/indexes/base.py:3790\u001b[0m, in \u001b[0;36mIndex.get_loc\u001b[0;34m(self, key)\u001b[0m\n\u001b[1;32m   3789\u001b[0m \u001b[39mtry\u001b[39;00m:\n\u001b[0;32m-> 3790\u001b[0m     \u001b[39mreturn\u001b[39;00m \u001b[39mself\u001b[39;49m\u001b[39m.\u001b[39;49m_engine\u001b[39m.\u001b[39;49mget_loc(casted_key)\n\u001b[1;32m   3791\u001b[0m \u001b[39mexcept\u001b[39;00m \u001b[39mKeyError\u001b[39;00m \u001b[39mas\u001b[39;00m err:\n",
      "File \u001b[0;32mindex.pyx:152\u001b[0m, in \u001b[0;36mpandas._libs.index.IndexEngine.get_loc\u001b[0;34m()\u001b[0m\n",
      "File \u001b[0;32mindex.pyx:181\u001b[0m, in \u001b[0;36mpandas._libs.index.IndexEngine.get_loc\u001b[0;34m()\u001b[0m\n",
      "File \u001b[0;32mpandas/_libs/hashtable_class_helper.pxi:7080\u001b[0m, in \u001b[0;36mpandas._libs.hashtable.PyObjectHashTable.get_item\u001b[0;34m()\u001b[0m\n",
      "File \u001b[0;32mpandas/_libs/hashtable_class_helper.pxi:7088\u001b[0m, in \u001b[0;36mpandas._libs.hashtable.PyObjectHashTable.get_item\u001b[0;34m()\u001b[0m\n",
      "\u001b[0;31mKeyError\u001b[0m: 'cont_dependent'",
      "\nThe above exception was the direct cause of the following exception:\n",
      "\u001b[0;31mKeyError\u001b[0m                                  Traceback (most recent call last)",
      "\u001b[1;32m/Users/fabian/Code/StormCloud/notebooks/linear_regr.ipynb Cell 30\u001b[0m line \u001b[0;36m7\n\u001b[1;32m      <a href='vscode-notebook-cell:/Users/fabian/Code/StormCloud/notebooks/linear_regr.ipynb#Y200sZmlsZQ%3D%3D?line=3'>4</a>\u001b[0m outages_by_country \u001b[39m=\u001b[39m df[[\u001b[39m\"\u001b[39m\u001b[39mcountry\u001b[39m\u001b[39m\"\u001b[39m, \u001b[39m\"\u001b[39m\u001b[39mcont_independent\u001b[39m\u001b[39m\"\u001b[39m]]\u001b[39m.\u001b[39mgroupby(by\u001b[39m=\u001b[39m[\u001b[39m\"\u001b[39m\u001b[39mcountry\u001b[39m\u001b[39m\"\u001b[39m])\u001b[39m.\u001b[39msum()\n\u001b[1;32m      <a href='vscode-notebook-cell:/Users/fabian/Code/StormCloud/notebooks/linear_regr.ipynb#Y200sZmlsZQ%3D%3D?line=4'>5</a>\u001b[0m merged_df \u001b[39m=\u001b[39m world\u001b[39m.\u001b[39mmerge(outages_by_country, left_on\u001b[39m=\u001b[39m\u001b[39m\"\u001b[39m\u001b[39mname\u001b[39m\u001b[39m\"\u001b[39m, right_on\u001b[39m=\u001b[39m\u001b[39m\"\u001b[39m\u001b[39mcountry\u001b[39m\u001b[39m\"\u001b[39m)\n\u001b[0;32m----> <a href='vscode-notebook-cell:/Users/fabian/Code/StormCloud/notebooks/linear_regr.ipynb#Y200sZmlsZQ%3D%3D?line=6'>7</a>\u001b[0m merged_df\u001b[39m.\u001b[39;49mplot(column\u001b[39m=\u001b[39;49m\u001b[39m\"\u001b[39;49m\u001b[39mcont_dependent\u001b[39;49m\u001b[39m\"\u001b[39;49m, cmap\u001b[39m=\u001b[39;49m\u001b[39m\"\u001b[39;49m\u001b[39mReds\u001b[39;49m\u001b[39m\"\u001b[39;49m, legend\u001b[39m=\u001b[39;49m\u001b[39mTrue\u001b[39;49;00m)\n\u001b[1;32m      <a href='vscode-notebook-cell:/Users/fabian/Code/StormCloud/notebooks/linear_regr.ipynb#Y200sZmlsZQ%3D%3D?line=7'>8</a>\u001b[0m plt\u001b[39m.\u001b[39mshow()\n",
      "File \u001b[0;32m/opt/homebrew/lib/python3.11/site-packages/geopandas/plotting.py:979\u001b[0m, in \u001b[0;36mGeoplotAccessor.__call__\u001b[0;34m(self, *args, **kwargs)\u001b[0m\n\u001b[1;32m    977\u001b[0m kind \u001b[39m=\u001b[39m kwargs\u001b[39m.\u001b[39mpop(\u001b[39m\"\u001b[39m\u001b[39mkind\u001b[39m\u001b[39m\"\u001b[39m, \u001b[39m\"\u001b[39m\u001b[39mgeo\u001b[39m\u001b[39m\"\u001b[39m)\n\u001b[1;32m    978\u001b[0m \u001b[39mif\u001b[39;00m kind \u001b[39m==\u001b[39m \u001b[39m\"\u001b[39m\u001b[39mgeo\u001b[39m\u001b[39m\"\u001b[39m:\n\u001b[0;32m--> 979\u001b[0m     \u001b[39mreturn\u001b[39;00m plot_dataframe(data, \u001b[39m*\u001b[39;49margs, \u001b[39m*\u001b[39;49m\u001b[39m*\u001b[39;49mkwargs)\n\u001b[1;32m    980\u001b[0m \u001b[39mif\u001b[39;00m kind \u001b[39min\u001b[39;00m \u001b[39mself\u001b[39m\u001b[39m.\u001b[39m_pandas_kinds:\n\u001b[1;32m    981\u001b[0m     \u001b[39m# Access pandas plots\u001b[39;00m\n\u001b[1;32m    982\u001b[0m     \u001b[39mreturn\u001b[39;00m PlotAccessor(data)(kind\u001b[39m=\u001b[39mkind, \u001b[39m*\u001b[39m\u001b[39m*\u001b[39mkwargs)\n",
      "File \u001b[0;32m/opt/homebrew/lib/python3.11/site-packages/geopandas/plotting.py:740\u001b[0m, in \u001b[0;36mplot_dataframe\u001b[0;34m(df, column, cmap, color, ax, cax, categorical, legend, scheme, k, vmin, vmax, markersize, figsize, legend_kwds, categories, classification_kwds, missing_kwds, aspect, **style_kwds)\u001b[0m\n\u001b[1;32m    738\u001b[0m             values \u001b[39m=\u001b[39m values\u001b[39m.\u001b[39mreindex(df\u001b[39m.\u001b[39mindex)\n\u001b[1;32m    739\u001b[0m \u001b[39melse\u001b[39;00m:\n\u001b[0;32m--> 740\u001b[0m     values \u001b[39m=\u001b[39m df[column]\n\u001b[1;32m    742\u001b[0m \u001b[39mif\u001b[39;00m \u001b[39misinstance\u001b[39m(values\u001b[39m.\u001b[39mdtype, CategoricalDtype):\n\u001b[1;32m    743\u001b[0m     \u001b[39mif\u001b[39;00m categories \u001b[39mis\u001b[39;00m \u001b[39mnot\u001b[39;00m \u001b[39mNone\u001b[39;00m:\n",
      "File \u001b[0;32m/opt/homebrew/lib/python3.11/site-packages/geopandas/geodataframe.py:1474\u001b[0m, in \u001b[0;36mGeoDataFrame.__getitem__\u001b[0;34m(self, key)\u001b[0m\n\u001b[1;32m   1468\u001b[0m \u001b[39mdef\u001b[39;00m \u001b[39m__getitem__\u001b[39m(\u001b[39mself\u001b[39m, key):\n\u001b[1;32m   1469\u001b[0m \u001b[39m    \u001b[39m\u001b[39m\"\"\"\u001b[39;00m\n\u001b[1;32m   1470\u001b[0m \u001b[39m    If the result is a column containing only 'geometry', return a\u001b[39;00m\n\u001b[1;32m   1471\u001b[0m \u001b[39m    GeoSeries. If it's a DataFrame with any columns of GeometryDtype,\u001b[39;00m\n\u001b[1;32m   1472\u001b[0m \u001b[39m    return a GeoDataFrame.\u001b[39;00m\n\u001b[1;32m   1473\u001b[0m \u001b[39m    \"\"\"\u001b[39;00m\n\u001b[0;32m-> 1474\u001b[0m     result \u001b[39m=\u001b[39m \u001b[39msuper\u001b[39;49m()\u001b[39m.\u001b[39;49m\u001b[39m__getitem__\u001b[39;49m(key)\n\u001b[1;32m   1475\u001b[0m     \u001b[39m# Custom logic to avoid waiting for pandas GH51895\u001b[39;00m\n\u001b[1;32m   1476\u001b[0m     \u001b[39m# result is not geometry dtype for multi-indexes\u001b[39;00m\n\u001b[1;32m   1477\u001b[0m     \u001b[39mif\u001b[39;00m (\n\u001b[1;32m   1478\u001b[0m         pd\u001b[39m.\u001b[39mapi\u001b[39m.\u001b[39mtypes\u001b[39m.\u001b[39mis_scalar(key)\n\u001b[1;32m   1479\u001b[0m         \u001b[39mand\u001b[39;00m key \u001b[39m==\u001b[39m \u001b[39m\"\u001b[39m\u001b[39m\"\u001b[39m\n\u001b[0;32m   (...)\u001b[0m\n\u001b[1;32m   1482\u001b[0m         \u001b[39mand\u001b[39;00m \u001b[39mnot\u001b[39;00m is_geometry_type(result)\n\u001b[1;32m   1483\u001b[0m     ):\n",
      "File \u001b[0;32m/opt/homebrew/lib/python3.11/site-packages/pandas/core/frame.py:3896\u001b[0m, in \u001b[0;36mDataFrame.__getitem__\u001b[0;34m(self, key)\u001b[0m\n\u001b[1;32m   3894\u001b[0m \u001b[39mif\u001b[39;00m \u001b[39mself\u001b[39m\u001b[39m.\u001b[39mcolumns\u001b[39m.\u001b[39mnlevels \u001b[39m>\u001b[39m \u001b[39m1\u001b[39m:\n\u001b[1;32m   3895\u001b[0m     \u001b[39mreturn\u001b[39;00m \u001b[39mself\u001b[39m\u001b[39m.\u001b[39m_getitem_multilevel(key)\n\u001b[0;32m-> 3896\u001b[0m indexer \u001b[39m=\u001b[39m \u001b[39mself\u001b[39;49m\u001b[39m.\u001b[39;49mcolumns\u001b[39m.\u001b[39;49mget_loc(key)\n\u001b[1;32m   3897\u001b[0m \u001b[39mif\u001b[39;00m is_integer(indexer):\n\u001b[1;32m   3898\u001b[0m     indexer \u001b[39m=\u001b[39m [indexer]\n",
      "File \u001b[0;32m/opt/homebrew/lib/python3.11/site-packages/pandas/core/indexes/base.py:3797\u001b[0m, in \u001b[0;36mIndex.get_loc\u001b[0;34m(self, key)\u001b[0m\n\u001b[1;32m   3792\u001b[0m     \u001b[39mif\u001b[39;00m \u001b[39misinstance\u001b[39m(casted_key, \u001b[39mslice\u001b[39m) \u001b[39mor\u001b[39;00m (\n\u001b[1;32m   3793\u001b[0m         \u001b[39misinstance\u001b[39m(casted_key, abc\u001b[39m.\u001b[39mIterable)\n\u001b[1;32m   3794\u001b[0m         \u001b[39mand\u001b[39;00m \u001b[39many\u001b[39m(\u001b[39misinstance\u001b[39m(x, \u001b[39mslice\u001b[39m) \u001b[39mfor\u001b[39;00m x \u001b[39min\u001b[39;00m casted_key)\n\u001b[1;32m   3795\u001b[0m     ):\n\u001b[1;32m   3796\u001b[0m         \u001b[39mraise\u001b[39;00m InvalidIndexError(key)\n\u001b[0;32m-> 3797\u001b[0m     \u001b[39mraise\u001b[39;00m \u001b[39mKeyError\u001b[39;00m(key) \u001b[39mfrom\u001b[39;00m \u001b[39merr\u001b[39;00m\n\u001b[1;32m   3798\u001b[0m \u001b[39mexcept\u001b[39;00m \u001b[39mTypeError\u001b[39;00m:\n\u001b[1;32m   3799\u001b[0m     \u001b[39m# If we have a listlike key, _check_indexing_error will raise\u001b[39;00m\n\u001b[1;32m   3800\u001b[0m     \u001b[39m#  InvalidIndexError. Otherwise we fall through and re-raise\u001b[39;00m\n\u001b[1;32m   3801\u001b[0m     \u001b[39m#  the TypeError.\u001b[39;00m\n\u001b[1;32m   3802\u001b[0m     \u001b[39mself\u001b[39m\u001b[39m.\u001b[39m_check_indexing_error(key)\n",
      "\u001b[0;31mKeyError\u001b[0m: 'cont_dependent'"
     ]
    },
    {
     "data": {
      "image/png": "[encoded data removed]",
      "text/plain": [
       "<Figure size 640x480 with 1 Axes>"
      ]
     },
     "metadata": {},
     "output_type": "display_data"
    }
   ],
   "source": [
    "import geopandas as gpd\n",
    "\n",
    "world: pd.DataFrame = gpd.read_file(gpd.datasets.get_path('naturalearth_lowres'))\n",
    "outages_by_country = df[[\"country\", \"cont_independent\"]].groupby(by=[\"country\"]).sum()\n",
    "merged_df = world.merge(outages_by_country, left_on=\"name\", right_on=\"country\")\n",
    "\n",
    "merged_df.plot(column=\"cont_independent\", cmap=\"Reds\", legend=True)\n",
    "plt.show()"
   ]
  },
  {
   "cell_type": "markdown",
   "metadata": {},
   "source": [
    "## Linear regression"
   ]
  },
  {
   "cell_type": "code",
   "execution_count": 236,
   "metadata": {},
   "outputs": [
    {
     "data": {
      "text/html": [
       "<div>\n",
       "<style scoped>\n",
       "    .dataframe tbody tr th:only-of-type {\n",
       "        vertical-align: middle;\n",
       "    }\n",
       "\n",
       "    .dataframe tbody tr th {\n",
       "        vertical-align: top;\n",
       "    }\n",
       "\n",
       "    .dataframe thead th {\n",
       "        text-align: right;\n",
       "    }\n",
       "</style>\n",
       "<table border=\"1\" class=\"dataframe\">\n",
       "  <thead>\n",
       "    <tr style=\"text-align: right;\">\n",
       "      <th></th>\n",
       "      <th>Unnamed: 0</th>\n",
       "      <th>Unnamed: 0_x</th>\n",
       "      <th>date</th>\n",
       "      <th>country</th>\n",
       "      <th>id</th>\n",
       "      <th>start</th>\n",
       "      <th>end</th>\n",
       "      <th>severity</th>\n",
       "      <th>status</th>\n",
       "      <th>location</th>\n",
       "      <th>...</th>\n",
       "      <th>cont_dependent</th>\n",
       "      <th>z_cont_dependent</th>\n",
       "      <th>norm_damages</th>\n",
       "      <th>norm_deaths</th>\n",
       "      <th>norm_affected</th>\n",
       "      <th>z_norm_damages</th>\n",
       "      <th>z_norm_deaths</th>\n",
       "      <th>z_norm_affected</th>\n",
       "      <th>cont_independent</th>\n",
       "      <th>z_cont_independent</th>\n",
       "    </tr>\n",
       "  </thead>\n",
       "  <tbody>\n",
       "    <tr>\n",
       "      <th>74</th>\n",
       "      <td>74</td>\n",
       "      <td>86</td>\n",
       "      <td>2022-09-18</td>\n",
       "      <td>Japan</td>\n",
       "      <td>urNR4xD4gBNsyaZj3W1i</td>\n",
       "      <td>2022-09-15 23:01:57+00:00</td>\n",
       "      <td>2022-09-29 20:49:04+00:00</td>\n",
       "      <td>low</td>\n",
       "      <td>SERVICE_INFORMATION</td>\n",
       "      <td>asia-northeast1</td>\n",
       "      <td>...</td>\n",
       "      <td>0.421024</td>\n",
       "      <td>0.422688</td>\n",
       "      <td>1.0</td>\n",
       "      <td>0.012012</td>\n",
       "      <td>0.000607</td>\n",
       "      <td>1.491544</td>\n",
       "      <td>-0.302969</td>\n",
       "      <td>-0.241738</td>\n",
       "      <td>0.504865</td>\n",
       "      <td>0.600410</td>\n",
       "    </tr>\n",
       "    <tr>\n",
       "      <th>99</th>\n",
       "      <td>99</td>\n",
       "      <td>114</td>\n",
       "      <td>2022-09-19</td>\n",
       "      <td>Japan</td>\n",
       "      <td>tK27wxVTmR9qpxvE1oJw</td>\n",
       "      <td>2022-09-19 16:51:00+00:00</td>\n",
       "      <td>2022-09-19 19:40:00+00:00</td>\n",
       "      <td>medium</td>\n",
       "      <td>SERVICE_DISRUPTION</td>\n",
       "      <td>asia-northeast1</td>\n",
       "      <td>...</td>\n",
       "      <td>0.340688</td>\n",
       "      <td>0.542603</td>\n",
       "      <td>1.0</td>\n",
       "      <td>0.012012</td>\n",
       "      <td>0.000607</td>\n",
       "      <td>1.491544</td>\n",
       "      <td>-0.302969</td>\n",
       "      <td>-0.241738</td>\n",
       "      <td>0.504865</td>\n",
       "      <td>0.600410</td>\n",
       "    </tr>\n",
       "    <tr>\n",
       "      <th>100</th>\n",
       "      <td>100</td>\n",
       "      <td>115</td>\n",
       "      <td>2022-09-19</td>\n",
       "      <td>Japan</td>\n",
       "      <td>urNR4xD4gBNsyaZj3W1i</td>\n",
       "      <td>2022-09-15 23:01:57+00:00</td>\n",
       "      <td>2022-09-29 20:49:04+00:00</td>\n",
       "      <td>low</td>\n",
       "      <td>SERVICE_INFORMATION</td>\n",
       "      <td>asia-northeast1</td>\n",
       "      <td>...</td>\n",
       "      <td>0.421024</td>\n",
       "      <td>0.422688</td>\n",
       "      <td>1.0</td>\n",
       "      <td>0.012012</td>\n",
       "      <td>0.000607</td>\n",
       "      <td>1.491544</td>\n",
       "      <td>-0.302969</td>\n",
       "      <td>-0.241738</td>\n",
       "      <td>0.504865</td>\n",
       "      <td>0.600410</td>\n",
       "    </tr>\n",
       "    <tr>\n",
       "      <th>134</th>\n",
       "      <td>134</td>\n",
       "      <td>151</td>\n",
       "      <td>2022-09-20</td>\n",
       "      <td>Japan</td>\n",
       "      <td>urNR4xD4gBNsyaZj3W1i</td>\n",
       "      <td>2022-09-15 23:01:57+00:00</td>\n",
       "      <td>2022-09-29 20:49:04+00:00</td>\n",
       "      <td>low</td>\n",
       "      <td>SERVICE_INFORMATION</td>\n",
       "      <td>asia-northeast1</td>\n",
       "      <td>...</td>\n",
       "      <td>0.421024</td>\n",
       "      <td>0.422688</td>\n",
       "      <td>1.0</td>\n",
       "      <td>0.012012</td>\n",
       "      <td>0.000607</td>\n",
       "      <td>1.491544</td>\n",
       "      <td>-0.302969</td>\n",
       "      <td>-0.241738</td>\n",
       "      <td>0.504865</td>\n",
       "      <td>0.600410</td>\n",
       "    </tr>\n",
       "    <tr>\n",
       "      <th>2056</th>\n",
       "      <td>2056</td>\n",
       "      <td>2306</td>\n",
       "      <td>2022-11-21</td>\n",
       "      <td>Indonesia</td>\n",
       "      <td>NaN</td>\n",
       "      <td>NaT</td>\n",
       "      <td>NaT</td>\n",
       "      <td>NaN</td>\n",
       "      <td>NaN</td>\n",
       "      <td>NaN</td>\n",
       "      <td>...</td>\n",
       "      <td>0.000000</td>\n",
       "      <td>0.000000</td>\n",
       "      <td>0.0</td>\n",
       "      <td>1.000000</td>\n",
       "      <td>1.000000</td>\n",
       "      <td>0.000000</td>\n",
       "      <td>10.683065</td>\n",
       "      <td>12.274717</td>\n",
       "      <td>0.500000</td>\n",
       "      <td>5.500698</td>\n",
       "    </tr>\n",
       "  </tbody>\n",
       "</table>\n",
       "<p>5 rows × 40 columns</p>\n",
       "</div>"
      ],
      "text/plain": [
       "      Unnamed: 0  Unnamed: 0_x        date    country                    id  \\\n",
       "74            74            86  2022-09-18      Japan  urNR4xD4gBNsyaZj3W1i   \n",
       "99            99           114  2022-09-19      Japan  tK27wxVTmR9qpxvE1oJw   \n",
       "100          100           115  2022-09-19      Japan  urNR4xD4gBNsyaZj3W1i   \n",
       "134          134           151  2022-09-20      Japan  urNR4xD4gBNsyaZj3W1i   \n",
       "2056        2056          2306  2022-11-21  Indonesia                   NaN   \n",
       "\n",
       "                         start                       end severity  \\\n",
       "74   2022-09-15 23:01:57+00:00 2022-09-29 20:49:04+00:00      low   \n",
       "99   2022-09-19 16:51:00+00:00 2022-09-19 19:40:00+00:00   medium   \n",
       "100  2022-09-15 23:01:57+00:00 2022-09-29 20:49:04+00:00      low   \n",
       "134  2022-09-15 23:01:57+00:00 2022-09-29 20:49:04+00:00      low   \n",
       "2056                       NaT                       NaT      NaN   \n",
       "\n",
       "                   status         location  ... cont_dependent  \\\n",
       "74    SERVICE_INFORMATION  asia-northeast1  ...       0.421024   \n",
       "99     SERVICE_DISRUPTION  asia-northeast1  ...       0.340688   \n",
       "100   SERVICE_INFORMATION  asia-northeast1  ...       0.421024   \n",
       "134   SERVICE_INFORMATION  asia-northeast1  ...       0.421024   \n",
       "2056                  NaN              NaN  ...       0.000000   \n",
       "\n",
       "      z_cont_dependent norm_damages  norm_deaths norm_affected z_norm_damages  \\\n",
       "74            0.422688          1.0     0.012012      0.000607       1.491544   \n",
       "99            0.542603          1.0     0.012012      0.000607       1.491544   \n",
       "100           0.422688          1.0     0.012012      0.000607       1.491544   \n",
       "134           0.422688          1.0     0.012012      0.000607       1.491544   \n",
       "2056          0.000000          0.0     1.000000      1.000000       0.000000   \n",
       "\n",
       "     z_norm_deaths z_norm_affected  cont_independent  z_cont_independent  \n",
       "74       -0.302969       -0.241738          0.504865            0.600410  \n",
       "99       -0.302969       -0.241738          0.504865            0.600410  \n",
       "100      -0.302969       -0.241738          0.504865            0.600410  \n",
       "134      -0.302969       -0.241738          0.504865            0.600410  \n",
       "2056     10.683065       12.274717          0.500000            5.500698  \n",
       "\n",
       "[5 rows x 40 columns]"
      ]
     },
     "execution_count": 236,
     "metadata": {},
     "output_type": "execute_result"
    }
   ],
   "source": [
    "df[df[\"cont_independent\"] > 0.4]"
   ]
  },
  {
   "cell_type": "code",
   "execution_count": 237,
   "metadata": {},
   "outputs": [
    {
     "name": "stdout",
     "output_type": "stream",
     "text": [
      "Coefficients: \n",
      " [0.34232649]\n",
      "                            OLS Regression Results                            \n",
      "==============================================================================\n",
      "Dep. Variable:                      y   R-squared:                       0.001\n",
      "Model:                            OLS   Adj. R-squared:                  0.000\n",
      "Method:                 Least Squares   F-statistic:                     5.396\n",
      "Date:                Sat, 07 Oct 2023   Prob (F-statistic):             0.0202\n",
      "Time:                        13:32:37   Log-Likelihood:                 2809.2\n",
      "No. Observations:                9571   AIC:                            -5614.\n",
      "Df Residuals:                    9569   BIC:                            -5600.\n",
      "Df Model:                           1                                         \n",
      "Covariance Type:            nonrobust                                         \n",
      "==============================================================================\n",
      "                 coef    std err          t      P>|t|      [0.025      0.975]\n",
      "------------------------------------------------------------------------------\n",
      "const          0.1186      0.002     64.220      0.000       0.115       0.122\n",
      "x1             0.3423      0.147      2.323      0.020       0.053       0.631\n",
      "==============================================================================\n",
      "Omnibus:                     2154.001   Durbin-Watson:                   0.862\n",
      "Prob(Omnibus):                  0.000   Jarque-Bera (JB):             3918.667\n",
      "Skew:                           1.470   Prob(JB):                         0.00\n",
      "Kurtosis:                       4.085   Cond. No.                         79.9\n",
      "==============================================================================\n",
      "\n",
      "Notes:\n",
      "[1] Standard Errors assume that the covariance matrix of the errors is correctly specified.\n"
     ]
    },
    {
     "data": {
      "image/png": "[encoded data removed]",
      "text/plain": [
       "<Figure size 640x480 with 1 Axes>"
      ]
     },
     "metadata": {},
     "output_type": "display_data"
    }
   ],
   "source": [
    "import numpy as np\n",
    "import matplotlib.pyplot as plt\n",
    "from sklearn import linear_model\n",
    "import statsmodels.api as sm\n",
    "\n",
    "# plot the data\n",
    "plt.scatter(df[\"cont_independent\"], df[\"cont_dependent\"], )\n",
    "plt.xlabel(\"weather severity\")\n",
    "plt.ylabel(\"outage severity\")\n",
    "# plt.savefig(\"outages_weather_scatter.png\")\n",
    "\n",
    "\n",
    "# model using linear regression\n",
    "X = df[\"cont_independent\"].to_numpy().reshape(-1, 1)\n",
    "Y = df[\"cont_dependent\"].to_numpy()\n",
    "reg = linear_model.LinearRegression()\n",
    "reg.fit(X, Y)\n",
    "print(\"Coefficients: \\n\", reg.coef_)\n",
    "\n",
    "predicted_Y = reg.predict(X)\n",
    "\n",
    "plt.plot(X, predicted_Y, color=\"red\")\n",
    "\n",
    "\n",
    "X = sm.add_constant(X) # add const to allow for constant offset of gradient\n",
    "stats_results = sm.OLS(Y, X).fit()\n",
    "print(stats_results.summary())"
   ]
  },
  {
   "cell_type": "code",
   "execution_count": 239,
   "metadata": {},
   "outputs": [
    {
     "name": "stdout",
     "output_type": "stream",
     "text": [
      "Coefficients: \n",
      " [[0.90649414]]\n",
      "Optimization terminated successfully.\n",
      "         Current function value: 0.547824\n",
      "         Iterations 5\n",
      "                           Logit Regression Results                           \n",
      "==============================================================================\n",
      "Dep. Variable:                      y   No. Observations:                 9571\n",
      "Model:                          Logit   Df Residuals:                     9569\n",
      "Method:                           MLE   Df Model:                            1\n",
      "Date:                Sat, 07 Oct 2023   Pseudo R-squ.:               0.0004046\n",
      "Time:                        13:41:28   Log-Likelihood:                -5243.2\n",
      "converged:                       True   LL-Null:                       -5245.3\n",
      "Covariance Type:            nonrobust   LLR p-value:                   0.03937\n",
      "==============================================================================\n",
      "                 coef    std err          z      P>|z|      [0.025      0.975]\n",
      "------------------------------------------------------------------------------\n",
      "const         -1.1697      0.024    -48.602      0.000      -1.217      -1.123\n",
      "x1             3.4772      1.714      2.029      0.042       0.119       6.836\n",
      "==============================================================================\n"
     ]
    },
    {
     "data": {
      "image/png": "[encoded data removed]",
      "text/plain": [
       "<Figure size 640x480 with 1 Axes>"
      ]
     },
     "metadata": {},
     "output_type": "display_data"
    }
   ],
   "source": [
    "import numpy as np\n",
    "import matplotlib.pyplot as plt\n",
    "from sklearn import linear_model\n",
    "import statsmodels.api as sm\n",
    "\n",
    "df.loc[df['cont_dependent'] <= 0.2, 'binary_dependent'] = 0\n",
    "df.loc[df['cont_dependent'] > 0.2, 'binary_dependent'] = 1\n",
    "\n",
    "# plot the data\n",
    "# plt.scatter(df[\"cont_independent\"], df[\"binary_dependent\"], )\n",
    "plt.xlabel(\"weather severity\")\n",
    "plt.ylabel(\"outage severity\")\n",
    "# plt.savefig(\"outages_weather_scatter.png\")\n",
    "\n",
    "\n",
    "# model using linear regression\n",
    "X = df[\"cont_independent\"].to_numpy().reshape(-1, 1)\n",
    "Y = df[\"binary_dependent\"].to_numpy()\n",
    "reg = linear_model.LogisticRegression()\n",
    "reg.fit(X, Y)\n",
    "print(\"Coefficients: \\n\", reg.coef_)\n",
    "\n",
    "predicted_Y = reg.predict(X)\n",
    "\n",
    "# plt.scatter(X, Y, c=predicted_Y)\n",
    "plt.scatter(X, Y)\n",
    "\n",
    "X = sm.add_constant(X) # add const to allow for constant offset of gradient\n",
    "stats_results = sm.Logit(Y, X).fit()\n",
    "print(stats_results.summary())"
   ]
  }
 ],
 "metadata": {
  "kernelspec": {
   "display_name": "Python 3",
   "language": "python",
   "name": "python3"
  },
  "language_info": {
   "codemirror_mode": {
    "name": "ipython",
    "version": 3
   },
   "file_extension": ".py",
   "mimetype": "text/x-python",
   "name": "python",
   "nbconvert_exporter": "python",
   "pygments_lexer": "ipython3",
   "version": "3.11.5"
  },
  "orig_nbformat": 4
 },
 "nbformat": 4,
 "nbformat_minor": 2
}
