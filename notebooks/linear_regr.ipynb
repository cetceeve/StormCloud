{
 "cells": [
  {
   "cell_type": "markdown",
   "metadata": {},
   "source": [
    "# Analysis\n",
    "\n",
    "## Join datasets together"
   ]
  },
  {
   "cell_type": "code",
   "execution_count": 15,
   "metadata": {},
   "outputs": [
    {
     "name": "stdout",
     "output_type": "stream",
     "text": [
      "['ASIA', 'Australia', 'Belgium', 'Brazil', 'Canada', 'Chile', 'Europe', 'Finland', 'France', 'Germany', 'Global', 'Hong Kong', 'India', 'Indonesia', 'Israel', 'Italy', 'Japan', 'Katar', 'Netherlands', 'Poland', 'Singapore', 'South Korea', 'Spain', 'Switzerland', 'Taiwan', 'USA', 'United Kingdom']\n",
      "['Afghanistan', 'Albania', 'Algeria', 'Angola', 'Anguilla', 'Antigua and Barbuda', 'Argentina', 'Armenia', 'Australia', 'Austria', 'Bahamas (the)', 'Bangladesh', 'Barbados', 'Belarus', 'Belgium', 'Belize', 'Benin', 'Bhutan', 'Bolivia (Plurinational State of)', 'Bosnia and Herzegovina', 'Botswana', 'Brazil', 'Bulgaria', 'Burkina Faso', 'Burundi', 'Cabo Verde', 'Cambodia', 'Cameroon', 'Canada', 'Canary Is', 'Central African Republic', 'Chad', 'Chile', 'China', 'Colombia', 'Comoros (the)', 'Congo (the Democratic Republic of the)', 'Congo (the)', 'Costa Rica', 'Croatia', 'Cuba', 'Cyprus', 'Czech Republic (the)', 'Côte d’Ivoire', 'Denmark', 'Djibouti', 'Dominica', 'Dominican Republic (the)', 'Ecuador', 'Egypt', 'El Salvador', 'Equatorial Guinea', 'Estonia', 'Eswatini', 'Ethiopia', 'Fiji', 'Finland', 'France', 'French Guiana', 'French Polynesia', 'Gabon', 'Gambia (the)', 'Georgia', 'Germany', 'Ghana', 'Greece', 'Guadeloupe', 'Guam', 'Guatemala', 'Guinea', 'Guinea-Bissau', 'Guyana', 'Haiti', 'Honduras', 'Hong Kong', 'Hungary', 'India', 'Indonesia', 'Iran (Islamic Republic of)', 'Iraq', 'Ireland', 'Isle of Man', 'Israel', 'Italy', 'Jamaica', 'Japan', 'Jordan', 'Katar', 'Kazakhstan', 'Kenya', 'Kiribati', \"Korea (the Democratic People's Republic of)\", 'Kuwait', 'Kyrgyzstan', \"Lao People's Democratic Republic (the)\", 'Latvia', 'Lebanon', 'Lesotho', 'Liberia', 'Libya', 'Lithuania', 'Luxembourg', 'Macao', 'Macedonia (the former Yugoslav Republic of)', 'Madagascar', 'Malawi', 'Malaysia', 'Maldives', 'Mali', 'Malta', 'Marshall Islands (the)', 'Martinique', 'Mauritania', 'Mauritius', 'Mexico', 'Micronesia (Federated States of)', 'Moldova (the Republic of)', 'Mongolia', 'Montenegro', 'Morocco', 'Mozambique', 'Myanmar', 'Namibia', 'Nepal', 'Netherlands', 'New Caledonia', 'New Zealand', 'Nicaragua', 'Niger (the)', 'Nigeria', 'Northern Mariana Islands (the)', 'Norway', 'Oman', 'Pakistan', 'Palau', 'Palestine, State of', 'Panama', 'Papua New Guinea', 'Paraguay', 'Peru', 'Philippines (the)', 'Poland', 'Portugal', 'Puerto Rico', 'Romania', 'Russian Federation (the)', 'Rwanda', 'Réunion', 'Saint Barthélemy', 'Saint Kitts and Nevis', 'Saint Lucia', 'Saint Martin (French Part)', 'Saint Vincent and the Grenadines', 'Samoa', 'Sao Tome and Principe', 'Saudi Arabia', 'Senegal', 'Serbia', 'Sierra Leone', 'Singapore', 'Sint Maarten (Dutch part)', 'Slovakia', 'Slovenia', 'Solomon Islands', 'Somalia', 'South Africa', 'South Korea', 'South Sudan', 'Spain', 'Sri Lanka', 'Sudan (the)', 'Sweden', 'Switzerland', 'Syrian Arab Republic', 'Taiwan', 'Tajikistan', 'Tanzania, United Republic of', 'Thailand', 'Timor-Leste', 'Togo', 'Tonga', 'Trinidad and Tobago', 'Tunisia', 'Turkey', 'Turks and Caicos Islands (the)', 'Tuvalu', 'USA', 'Uganda', 'Ukraine', 'United Arab Emirates (the)', 'United Kingdom', 'Uruguay', 'Uzbekistan', 'Vanuatu', 'Venezuela (Bolivarian Republic of)', 'Viet Nam', 'Virgin Island (British)', 'Virgin Island (U.S.)', 'Yemen', 'Zambia', 'Zimbabwe']\n",
      "['Australia', 'Belgium', 'Brazil', 'Canada', 'Chile', 'Finland', 'France', 'Germany', 'Hong Kong', 'India', 'Indonesia', 'Israel', 'Italy', 'Japan', 'Katar', 'Netherlands', 'Poland', 'Singapore', 'South Korea', 'Spain', 'Switzerland', 'Taiwan', 'USA', 'United Kingdom']\n",
      "{'Europe', 'Global', 'ASIA'}\n",
      "(11726, 12)\n",
      "(74541, 10)\n",
      "(10311, 20)\n"
     ]
    }
   ],
   "source": [
    "import pandas as pd\n",
    "\n",
    "# load data\n",
    "df_cloud = pd.read_csv(\"../data/incidentsByDateCountry.csv\")\n",
    "df_strom = pd.read_csv(\"../storms_pre_processed.csv\")\n",
    "df_strom = df_strom.rename(columns={\"Country\": \"country\"})\n",
    "\n",
    "df_strom[\"country\"].replace(\n",
    "    to_replace={\"United Kingdom of Great Britain and Northern Ireland (the)\": \"United Kingdom\",\n",
    "                \"Korea (the Republic of)\": \"South Korea\",\n",
    "                \"United States of America (the)\": \"USA\",\n",
    "                \"Taiwan (Province of China)\": \"Taiwan\",\n",
    "                \"Netherlands (the)\": \"Netherlands\",\n",
    "                \"Qatar\": \"Katar\"\n",
    "                }, inplace=True)\n",
    "\n",
    "df_joined = pd.merge(df_cloud, df_strom, on=[\"date\", \"country\"], how=\"inner\")\n",
    "\n",
    "#print(sorted(df_cloud[\"country\"].drop_duplicates().dropna().to_list()))\n",
    "#print(sorted(df_strom[\"country\"].drop_duplicates().dropna().to_list()))\n",
    "#print(sorted(df_joined[\"country\"].drop_duplicates().dropna().to_list()))\n",
    "cloud_set = set(df_cloud[\"country\"].drop_duplicates().dropna().to_list())\n",
    "joined_set = set(df_joined[\"country\"].drop_duplicates().dropna().to_list())\n",
    "not_intersection = joined_set ^ cloud_set\n",
    "print(not_intersection)\n",
    "print(df_cloud.shape)\n",
    "print(df_strom.shape)\n",
    "print(df_joined.shape)"
   ]
  },
  {
   "cell_type": "code",
   "execution_count": null,
   "metadata": {},
   "outputs": [],
   "source": [
    "df_joined.to_csv(\"../data/full.csv\")"
   ]
  },
  {
   "cell_type": "markdown",
   "metadata": {},
   "source": [
    "# Variables Encoding\n",
    "\n",
    "Read in data"
   ]
  },
  {
   "cell_type": "code",
   "execution_count": 46,
   "metadata": {},
   "outputs": [],
   "source": [
    "import pandas as pd\n",
    "df = pd.read_csv(\"../data/full.csv\")"
   ]
  },
  {
   "cell_type": "code",
   "execution_count": 4,
   "metadata": {},
   "outputs": [
    {
     "name": "stdout",
     "output_type": "stream",
     "text": [
      "Index(['Unnamed: 0', 'Unnamed: 0_x', 'date', 'country', 'id', 'start', 'end',\n",
      "       'severity', 'status', 'location', 'service_name',\n",
      "       'number_affected_products', 'city', 'Unnamed: 0_y', 'Start Date',\n",
      "       'End Date', 'Geo Locations', 'Disaster Type', 'Total Damages',\n",
      "       'Total Deaths', 'Total Affected'],\n",
      "      dtype='object')\n"
     ]
    }
   ],
   "source": [
    "print(df.columns)"
   ]
  },
  {
   "cell_type": "markdown",
   "metadata": {},
   "source": [
    "## Dependent Variable\n",
    "\n",
    "Boolean encoding where 1 if cloud outage severity is either high or medium."
   ]
  },
  {
   "cell_type": "code",
   "execution_count": 70,
   "metadata": {},
   "outputs": [
    {
     "name": "stdout",
     "output_type": "stream",
     "text": [
      "10311\n",
      "5574\n",
      "4223\n"
     ]
    }
   ],
   "source": [
    "# Take only outages with midium or high severity into consideration\n",
    "df[\"dependent\"] = 0\n",
    "df.loc[df[\"severity\"]== \"low\", \"dependent\"] = 1\n",
    "df.loc[df[\"severity\"] == \"medium\", \"dependent\"] = 2\n",
    "df.loc[df[\"severity\"] == \"high\", \"dependent\"] = 3\n",
    "# Take all outages into account\n",
    "df[\"dep_bool\"] = 1\n",
    "df.loc[df[\"id\"].isnull(), \"dep_bool\"] = 0\n",
    "\n",
    "# explore depdendent variable\n",
    "print(df.shape[0])\n",
    "print(df.loc[df[\"dep_bool\"] == 1, \"dep_bool\"].count())\n",
    "print(df.loc[df[\"dependent\"] == 1, \"dependent\"].count())"
   ]
  },
  {
   "cell_type": "markdown",
   "metadata": {},
   "source": [
    "# Independent variable\n",
    "\n",
    "Only look at specific weather events, take the monetary damage as the value"
   ]
  },
  {
   "cell_type": "code",
   "execution_count": 48,
   "metadata": {},
   "outputs": [
    {
     "name": "stdout",
     "output_type": "stream",
     "text": [
      "[nan, 'Flood', 'Earthquake', 'Storm', 'Landslide', 'Volcanic activity', 'Wildfire', 'Extreme temperature ']\n"
     ]
    }
   ],
   "source": [
    "print(df[\"Disaster Type\"].drop_duplicates().to_list())"
   ]
  },
  {
   "cell_type": "code",
   "execution_count": 68,
   "metadata": {},
   "outputs": [
    {
     "name": "stdout",
     "output_type": "stream",
     "text": [
      "597\n",
      "502\n"
     ]
    }
   ],
   "source": [
    "# factorize people affected by 1000\n",
    "df['total_affected_factorized'] = df['Total Affected'].apply(lambda x: x*1000)\n",
    "df['indep_damage_affected'] = df[\"Total Affected\"]\n",
    "df.loc[df['indep_damage_affected'].isnull(), 'indep_damage_affected'] = 0\n",
    "# set to zero for the weather events we do not care about\n",
    "df.loc[df[\"Disaster Type\"] == \"Extreme temperature\", \"indep_damag_affected\"] = 0\n",
    "\n",
    "# explore independent variable\n",
    "numOfWeatherEvents = df.shape[0] - df[\"Disaster Type\"].isna().sum()\n",
    "print(numOfWeatherEvents)\n",
    "print(df.loc[df[\"indep_damage_affected\"] != 0, \"indep_damage_affected\"].count())"
   ]
  },
  {
   "cell_type": "markdown",
   "metadata": {},
   "source": [
    "# Linear regression"
   ]
  },
  {
   "cell_type": "code",
   "execution_count": 71,
   "metadata": {},
   "outputs": [
    {
     "name": "stdout",
     "output_type": "stream",
     "text": [
      "Coefficients: \n",
      " [1.88507922e-07]\n",
      "                            OLS Regression Results                            \n",
      "==============================================================================\n",
      "Dep. Variable:                      y   R-squared:                       0.001\n",
      "Model:                            OLS   Adj. R-squared:                  0.001\n",
      "Method:                 Least Squares   F-statistic:                     7.714\n",
      "Date:                Wed, 20 Sep 2023   Prob (F-statistic):            0.00549\n",
      "Time:                        14:04:48   Log-Likelihood:                -11288.\n",
      "No. Observations:               10311   AIC:                         2.258e+04\n",
      "Df Residuals:                   10309   BIC:                         2.259e+04\n",
      "Df Model:                           1                                         \n",
      "Covariance Type:            nonrobust                                         \n",
      "==============================================================================\n",
      "                 coef    std err          t      P>|t|      [0.025      0.975]\n",
      "------------------------------------------------------------------------------\n",
      "const          0.6809      0.007     95.208      0.000       0.667       0.695\n",
      "x1          1.885e-07   6.79e-08      2.777      0.005    5.55e-08    3.22e-07\n",
      "==============================================================================\n",
      "Omnibus:                      764.443   Durbin-Watson:                   0.563\n",
      "Prob(Omnibus):                  0.000   Jarque-Bera (JB):              943.902\n",
      "Skew:                           0.739   Prob(JB):                    1.08e-205\n",
      "Kurtosis:                       2.877   Cond. No.                     1.06e+05\n",
      "==============================================================================\n",
      "\n",
      "Notes:\n",
      "[1] Standard Errors assume that the covariance matrix of the errors is correctly specified.\n",
      "[2] The condition number is large, 1.06e+05. This might indicate that there are\n",
      "strong multicollinearity or other numerical problems.\n"
     ]
    },
    {
     "data": {
      "image/png": "[encoded data removed]",
      "text/plain": [
       "<Figure size 640x480 with 1 Axes>"
      ]
     },
     "metadata": {},
     "output_type": "display_data"
    }
   ],
   "source": [
    "import numpy as np\n",
    "import matplotlib.pyplot as plt\n",
    "from sklearn import linear_model\n",
    "import statsmodels.api as sm\n",
    "\n",
    "# plot the data\n",
    "plt.scatter(df[\"indep_damage_affected\"], df[\"dependent\"], )\n",
    "plt.xlabel(\"damage affected\")\n",
    "plt.ylabel(\"outages\")\n",
    "plt.savefig(\"outages_weather_scatter.png\")\n",
    "\n",
    "\n",
    "# model using linear regression\n",
    "X = df[\"indep_damage_affected\"].to_numpy().reshape(-1, 1)\n",
    "Y = df[\"dependent\"].to_numpy()\n",
    "reg = linear_model.LinearRegression()\n",
    "reg.fit(X, Y)\n",
    "print(\"Coefficients: \\n\", reg.coef_)\n",
    "\n",
    "predicted_Y = reg.predict(X)\n",
    "\n",
    "plt.plot(X, predicted_Y, color=\"red\")\n",
    "\n",
    "\n",
    "X = sm.add_constant(X) # add const to allow for constant offset of gradient\n",
    "stats_results = sm.OLS(Y, X).fit()\n",
    "print(stats_results.summary())"
   ]
  }
 ],
 "metadata": {
  "kernelspec": {
   "display_name": "Python 3",
   "language": "python",
   "name": "python3"
  },
  "language_info": {
   "codemirror_mode": {
    "name": "ipython",
    "version": 3
   },
   "file_extension": ".py",
   "mimetype": "text/x-python",
   "name": "python",
   "nbconvert_exporter": "python",
   "pygments_lexer": "ipython3",
   "version": "3.11.5"
  },
  "orig_nbformat": 4
 },
 "nbformat": 4,
 "nbformat_minor": 2
}
