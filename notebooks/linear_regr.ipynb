{
 "cells": [
  {
   "cell_type": "markdown",
   "metadata": {},
   "source": [
    "# Linear Regression"
   ]
  },
  {
   "cell_type": "code",
   "execution_count": 15,
   "metadata": {},
   "outputs": [
    {
     "name": "stdout",
     "output_type": "stream",
     "text": [
      "['ASIA', 'Australia', 'Belgium', 'Brazil', 'Canada', 'Chile', 'Europe', 'Finland', 'France', 'Germany', 'Global', 'Hong Kong', 'India', 'Indonesia', 'Israel', 'Italy', 'Japan', 'Katar', 'Netherlands', 'Poland', 'Singapore', 'South Korea', 'Spain', 'Switzerland', 'Taiwan', 'USA', 'United Kingdom']\n",
      "['Afghanistan', 'Albania', 'Algeria', 'Angola', 'Anguilla', 'Antigua and Barbuda', 'Argentina', 'Armenia', 'Australia', 'Austria', 'Bahamas (the)', 'Bangladesh', 'Barbados', 'Belarus', 'Belgium', 'Belize', 'Benin', 'Bhutan', 'Bolivia (Plurinational State of)', 'Bosnia and Herzegovina', 'Botswana', 'Brazil', 'Bulgaria', 'Burkina Faso', 'Burundi', 'Cabo Verde', 'Cambodia', 'Cameroon', 'Canada', 'Canary Is', 'Central African Republic', 'Chad', 'Chile', 'China', 'Colombia', 'Comoros (the)', 'Congo (the Democratic Republic of the)', 'Congo (the)', 'Costa Rica', 'Croatia', 'Cuba', 'Cyprus', 'Czech Republic (the)', 'Côte d’Ivoire', 'Denmark', 'Djibouti', 'Dominica', 'Dominican Republic (the)', 'Ecuador', 'Egypt', 'El Salvador', 'Equatorial Guinea', 'Estonia', 'Eswatini', 'Ethiopia', 'Fiji', 'Finland', 'France', 'French Guiana', 'French Polynesia', 'Gabon', 'Gambia (the)', 'Georgia', 'Germany', 'Ghana', 'Greece', 'Guadeloupe', 'Guam', 'Guatemala', 'Guinea', 'Guinea-Bissau', 'Guyana', 'Haiti', 'Honduras', 'Hong Kong', 'Hungary', 'India', 'Indonesia', 'Iran (Islamic Republic of)', 'Iraq', 'Ireland', 'Isle of Man', 'Israel', 'Italy', 'Jamaica', 'Japan', 'Jordan', 'Katar', 'Kazakhstan', 'Kenya', 'Kiribati', \"Korea (the Democratic People's Republic of)\", 'Kuwait', 'Kyrgyzstan', \"Lao People's Democratic Republic (the)\", 'Latvia', 'Lebanon', 'Lesotho', 'Liberia', 'Libya', 'Lithuania', 'Luxembourg', 'Macao', 'Macedonia (the former Yugoslav Republic of)', 'Madagascar', 'Malawi', 'Malaysia', 'Maldives', 'Mali', 'Malta', 'Marshall Islands (the)', 'Martinique', 'Mauritania', 'Mauritius', 'Mexico', 'Micronesia (Federated States of)', 'Moldova (the Republic of)', 'Mongolia', 'Montenegro', 'Morocco', 'Mozambique', 'Myanmar', 'Namibia', 'Nepal', 'Netherlands', 'New Caledonia', 'New Zealand', 'Nicaragua', 'Niger (the)', 'Nigeria', 'Northern Mariana Islands (the)', 'Norway', 'Oman', 'Pakistan', 'Palau', 'Palestine, State of', 'Panama', 'Papua New Guinea', 'Paraguay', 'Peru', 'Philippines (the)', 'Poland', 'Portugal', 'Puerto Rico', 'Romania', 'Russian Federation (the)', 'Rwanda', 'Réunion', 'Saint Barthélemy', 'Saint Kitts and Nevis', 'Saint Lucia', 'Saint Martin (French Part)', 'Saint Vincent and the Grenadines', 'Samoa', 'Sao Tome and Principe', 'Saudi Arabia', 'Senegal', 'Serbia', 'Sierra Leone', 'Singapore', 'Sint Maarten (Dutch part)', 'Slovakia', 'Slovenia', 'Solomon Islands', 'Somalia', 'South Africa', 'South Korea', 'South Sudan', 'Spain', 'Sri Lanka', 'Sudan (the)', 'Sweden', 'Switzerland', 'Syrian Arab Republic', 'Taiwan', 'Tajikistan', 'Tanzania, United Republic of', 'Thailand', 'Timor-Leste', 'Togo', 'Tonga', 'Trinidad and Tobago', 'Tunisia', 'Turkey', 'Turks and Caicos Islands (the)', 'Tuvalu', 'USA', 'Uganda', 'Ukraine', 'United Arab Emirates (the)', 'United Kingdom', 'Uruguay', 'Uzbekistan', 'Vanuatu', 'Venezuela (Bolivarian Republic of)', 'Viet Nam', 'Virgin Island (British)', 'Virgin Island (U.S.)', 'Yemen', 'Zambia', 'Zimbabwe']\n",
      "['Australia', 'Belgium', 'Brazil', 'Canada', 'Chile', 'Finland', 'France', 'Germany', 'Hong Kong', 'India', 'Indonesia', 'Israel', 'Italy', 'Japan', 'Katar', 'Netherlands', 'Poland', 'Singapore', 'South Korea', 'Spain', 'Switzerland', 'Taiwan', 'USA', 'United Kingdom']\n",
      "{'Europe', 'Global', 'ASIA'}\n",
      "(11726, 12)\n",
      "(74541, 10)\n",
      "(10311, 20)\n"
     ]
    }
   ],
   "source": [
    "import pandas as pd\n",
    "\n",
    "# load data\n",
    "df_cloud = pd.read_csv(\"../data/incidentsByDateCountry.csv\")\n",
    "df_strom = pd.read_csv(\"../storms_pre_processed.csv\")\n",
    "df_strom = df_strom.rename(columns={\"Country\": \"country\"})\n",
    "\n",
    "df_strom[\"country\"].replace(\n",
    "    to_replace={\"United Kingdom of Great Britain and Northern Ireland (the)\": \"United Kingdom\",\n",
    "                \"Korea (the Republic of)\": \"South Korea\",\n",
    "                \"United States of America (the)\": \"USA\",\n",
    "                \"Taiwan (Province of China)\": \"Taiwan\",\n",
    "                \"Netherlands (the)\": \"Netherlands\",\n",
    "                \"Qatar\": \"Katar\"\n",
    "                }, inplace=True)\n",
    "\n",
    "df_joined = pd.merge(df_cloud, df_strom, on=[\"date\", \"country\"], how=\"inner\")\n",
    "\n",
    "#print(sorted(df_cloud[\"country\"].drop_duplicates().dropna().to_list()))\n",
    "#print(sorted(df_strom[\"country\"].drop_duplicates().dropna().to_list()))\n",
    "#print(sorted(df_joined[\"country\"].drop_duplicates().dropna().to_list()))\n",
    "cloud_set = set(df_cloud[\"country\"].drop_duplicates().dropna().to_list())\n",
    "joined_set = set(df_joined[\"country\"].drop_duplicates().dropna().to_list())\n",
    "not_intersection = joined_set ^ cloud_set\n",
    "print(not_intersection)\n",
    "print(df_cloud.shape)\n",
    "print(df_strom.shape)\n",
    "print(df_joined.shape)"
   ]
  },
  {
   "cell_type": "code",
   "execution_count": null,
   "metadata": {},
   "outputs": [],
   "source": [
    "df_joined.to_csv(\"../data/full.csv\")"
   ]
  }
 ],
 "metadata": {
  "kernelspec": {
   "display_name": "Python 3",
   "language": "python",
   "name": "python3"
  },
  "language_info": {
   "codemirror_mode": {
    "name": "ipython",
    "version": 3
   },
   "file_extension": ".py",
   "mimetype": "text/x-python",
   "name": "python",
   "nbconvert_exporter": "python",
   "pygments_lexer": "ipython3",
   "version": "3.11.5"
  },
  "orig_nbformat": 4
 },
 "nbformat": 4,
 "nbformat_minor": 2
}
