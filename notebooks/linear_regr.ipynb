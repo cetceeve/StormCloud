{
 "cells": [
  {
   "cell_type": "markdown",
   "metadata": {},
   "source": [
    "# Analysis"
   ]
  },
  {
   "cell_type": "markdown",
   "metadata": {},
   "source": [
    "## Load data"
   ]
  },
  {
   "cell_type": "code",
   "execution_count": 389,
   "metadata": {},
   "outputs": [],
   "source": [
    "import pandas as pd\n",
    "df = pd.read_csv(\"../data/full.csv\")"
   ]
  },
  {
   "cell_type": "code",
   "execution_count": 390,
   "metadata": {},
   "outputs": [
    {
     "name": "stdout",
     "output_type": "stream",
     "text": [
      "Index(['Unnamed: 0', 'Unnamed: 0_x', 'date', 'country', 'id', 'start', 'end',\n",
      "       'severity', 'status', 'location', 'service_name',\n",
      "       'number_affected_products', 'city', 'Unnamed: 0_y', 'Start Date',\n",
      "       'End Date', 'Geo Locations', 'Disaster Type', 'Total Damages',\n",
      "       'Total Deaths', 'Total Affected'],\n",
      "      dtype='object')\n"
     ]
    }
   ],
   "source": [
    "print(df.columns)"
   ]
  },
  {
   "cell_type": "markdown",
   "metadata": {},
   "source": [
    "## Cleaning"
   ]
  },
  {
   "cell_type": "markdown",
   "metadata": {},
   "source": [
    "Remove rows that are not interesting to us"
   ]
  },
  {
   "cell_type": "code",
   "execution_count": 391,
   "metadata": {},
   "outputs": [],
   "source": [
    "# remove USA because it is to big\n",
    "# df = df.drop(df[df[\"country\"].isin([\"USA\", \"Brazil\", \"Canada\"])].index)\n",
    "# remove lines without infromation\n",
    "# old_size = df.size\n",
    "# df = df.dropna(subset=[\"id\", \"Disaster Type\"], how=\"all\")\n",
    "# print(f\"Removed {old_size - df.size}/{old_size} where outage and weather event were NaN.\")"
   ]
  },
  {
   "cell_type": "markdown",
   "metadata": {},
   "source": [
    "Convert dates that represent string to actual dates"
   ]
  },
  {
   "cell_type": "code",
   "execution_count": 392,
   "metadata": {},
   "outputs": [],
   "source": [
    "# longest disaster duration\n",
    "df[\"Start Date\"] = pd.to_datetime(df[\"Start Date\"], errors=\"coerce\")\n",
    "df[\"End Date\"] = pd.to_datetime(df[\"End Date\"], errors=\"coerce\")\n",
    "df[\"start\"] = pd.to_datetime(df[\"start\"], errors=\"coerce\")\n",
    "df[\"end\"] = pd.to_datetime(df[\"end\"], errors=\"coerce\")"
   ]
  },
  {
   "cell_type": "markdown",
   "metadata": {},
   "source": [
    "Add information about the duration of outages and weather events"
   ]
  },
  {
   "cell_type": "code",
   "execution_count": 393,
   "metadata": {},
   "outputs": [],
   "source": [
    "df[\"outage_duration_secs\"] = (df[\"end\"] - df[\"start\"]).dt.seconds\n",
    "df[\"weather_duration_days\"] = (df[\"End Date\"] - df[\"Start Date\"]).dt.days\n",
    "# because wather events that were on one day only shouldn't be zero we add one day to all\n",
    "df[\"weather_duration_days\"] += 1"
   ]
  },
  {
   "cell_type": "markdown",
   "metadata": {},
   "source": [
    "Remove incidents that are just too long to have any meaningful correlation"
   ]
  },
  {
   "cell_type": "code",
   "execution_count": 394,
   "metadata": {},
   "outputs": [],
   "source": [
    "# weather events that took longer than 2 weeks\n",
    "df = df.drop(df[df[\"weather_duration_days\"] > 14].index)"
   ]
  },
  {
   "cell_type": "code",
   "execution_count": 395,
   "metadata": {},
   "outputs": [
    {
     "data": {
      "text/plain": [
       "10128"
      ]
     },
     "execution_count": 395,
     "metadata": {},
     "output_type": "execute_result"
    }
   ],
   "source": [
    "df[\"country\"].size"
   ]
  },
  {
   "cell_type": "markdown",
   "metadata": {},
   "source": [
    "## Encoding\n",
    "\n",
    "### Dependent Variable"
   ]
  },
  {
   "cell_type": "markdown",
   "metadata": {},
   "source": [
    "Create a continous variable representing outage severity on a scale from 0 to 1.\n",
    "\n",
    "We have three factors influencing our final score:\n",
    "- severity\n",
    "- outage duraction\n",
    "- number of affected services"
   ]
  },
  {
   "cell_type": "code",
   "execution_count": 396,
   "metadata": {},
   "outputs": [],
   "source": [
    "WEIGHTS = {\n",
    "    \"severity\": 0.5,\n",
    "    \"duration\": 0.4,\n",
    "    \"numAffProd\": 0.1,\n",
    "    \"damages\": 0.5,\n",
    "    \"deaths\": 0.4,\n",
    "    \"affected\": 0.1,\n",
    "}"
   ]
  },
  {
   "cell_type": "markdown",
   "metadata": {},
   "source": [
    "First we need to nomarlize the inputs"
   ]
  },
  {
   "cell_type": "code",
   "execution_count": 397,
   "metadata": {},
   "outputs": [],
   "source": [
    "# min-max normalization\n",
    "\n",
    "# since severity is not continous we can normalize with the encoding\n",
    "df.loc[df[\"severity\"]== \"low\", \"norm_severity\"] = 0\n",
    "df.loc[df[\"severity\"] == \"medium\", \"norm_severity\"] = 0.5\n",
    "df.loc[df[\"severity\"] == \"high\", \"norm_severity\"] = 1\n",
    "\n",
    "# min-max normalisation for continous values\n",
    "df[\"norm_duration\"] = (df[\"outage_duration_secs\"] - df[\"outage_duration_secs\"].min()) / (df[\"outage_duration_secs\"].max() - df[\"outage_duration_secs\"].min())\n",
    "df[\"norm_num_aff_prod\"] = (df[\"number_affected_products\"] - df[\"number_affected_products\"].min()) / (df[\"number_affected_products\"].max() - df[\"number_affected_products\"].min())"
   ]
  },
  {
   "cell_type": "code",
   "execution_count": 398,
   "metadata": {},
   "outputs": [],
   "source": [
    "# z-score normalisation\n",
    "\n",
    "# since severity is not continous we can normalize with the encoding\n",
    "df.loc[df[\"severity\"]== \"low\", \"enc_severity\"] = 0\n",
    "df.loc[df[\"severity\"] == \"medium\", \"enc_severity\"] = 1\n",
    "df.loc[df[\"severity\"] == \"high\", \"enc_severity\"] = 2\n",
    "\n",
    "\n",
    "# normalisation by z-score method\n",
    "df[\"z_norm_severity\"] = (df[\"enc_severity\"] - df[\"enc_severity\"].mean()) / df[\"enc_severity\"].std()\n",
    "df[\"z_norm_duration\"] = (df[\"outage_duration_secs\"] - df[\"outage_duration_secs\"].mean()) / df[\"outage_duration_secs\"].std()\n",
    "df[\"z_norm_num_aff_prod\"] = (df[\"number_affected_products\"] - df[\"number_affected_products\"].mean()) / df[\"number_affected_products\"].std()"
   ]
  },
  {
   "cell_type": "markdown",
   "metadata": {},
   "source": [
    "Create final score by multiplying normalized values with their weights and pumping them through the logistic function."
   ]
  },
  {
   "cell_type": "code",
   "execution_count": 399,
   "metadata": {},
   "outputs": [],
   "source": [
    "df[\"cont_dependent\"] = (df[\"norm_severity\"] * WEIGHTS[\"severity\"] + \\\n",
    "                       df[\"norm_duration\"] * WEIGHTS[\"duration\"] + \\\n",
    "                       df[\"norm_num_aff_prod\"] * WEIGHTS[\"numAffProd\"])\n",
    "\n",
    "df[\"z_cont_dependent\"] = (df[\"z_norm_severity\"] * WEIGHTS[\"severity\"] + \\\n",
    "                       df[\"z_norm_duration\"] * WEIGHTS[\"duration\"] + \\\n",
    "                       df[\"z_norm_num_aff_prod\"] * WEIGHTS[\"numAffProd\"])\n",
    "# min-max normalized values need to be scaled onto a 0 to 1 scale\n",
    "df[\"cont_dependent\"] = (df[\"cont_dependent\"] - df[\"cont_dependent\"].min()) / (df[\"cont_dependent\"].max() - df[\"cont_dependent\"].min())\n",
    "\n",
    "# replace NaN with simply 0\n",
    "df[\"cont_dependent\"] = df[\"cont_dependent\"].fillna(0)\n",
    "df[\"z_cont_dependent\"] = df[\"z_cont_dependent\"].fillna(0)"
   ]
  },
  {
   "cell_type": "code",
   "execution_count": 400,
   "metadata": {},
   "outputs": [
    {
     "data": {
      "text/plain": [
       "[]"
      ]
     },
     "execution_count": 400,
     "metadata": {},
     "output_type": "execute_result"
    },
    {
     "data": {
      "image/png": "[encoded data removed]",
      "text/plain": [
       "<Figure size 640x480 with 1 Axes>"
      ]
     },
     "metadata": {},
     "output_type": "display_data"
    }
   ],
   "source": [
    "# Print dependent variable\n",
    "import numpy as np\n",
    "import matplotlib.pyplot as plt\n",
    "\n",
    "# plot the data\n",
    "fig,ax = plt.subplots(1)\n",
    "#weather plot the data\n",
    "plt.boxplot(df[[\"cont_dependent\"]])\n",
    "plt.xlabel(\"dependent variable\")\n",
    "ax.set_xticklabels([])\n",
    "\n",
    "plt.plot()"
   ]
  },
  {
   "cell_type": "markdown",
   "metadata": {},
   "source": [
    "### Independent variable"
   ]
  },
  {
   "cell_type": "code",
   "execution_count": 401,
   "metadata": {},
   "outputs": [],
   "source": [
    "# Normalise the desired variables\n",
    "df[\"norm_damages\"] = (df[\"Total Damages\"] - df[\"Total Damages\"].min()) / (df[\"Total Damages\"].max() - df[\"Total Damages\"].min())\n",
    "df[\"norm_deaths\"] = (df[\"Total Deaths\"] - df[\"Total Deaths\"].min()) / (df[\"Total Deaths\"].max() - df[\"Total Deaths\"].min())\n",
    "df[\"norm_affected\"] = (df[\"Total Affected\"] - df[\"Total Affected\"].min()) / (df[\"Total Affected\"].max() - df[\"Total Affected\"].min())\n",
    "\n",
    "# normalisation by z-score method\n",
    "df[\"z_norm_damages\"] = (df[\"Total Damages\"] - df[\"Total Damages\"].mean()) / df[\"Total Damages\"].std()\n",
    "df[\"z_norm_deaths\"] = (df[\"Total Deaths\"] - df[\"Total Deaths\"].mean()) / df[\"Total Deaths\"].std()\n",
    "df[\"z_norm_affected\"] = (df[\"Total Affected\"] - df[\"Total Affected\"].mean()) / df[\"Total Affected\"].std()"
   ]
  },
  {
   "cell_type": "code",
   "execution_count": 402,
   "metadata": {},
   "outputs": [],
   "source": [
    "# replace NaN with 0\n",
    "df[\"norm_damages\"] = df[\"norm_damages\"].fillna(0)\n",
    "df[\"norm_deaths\"] = df[\"norm_deaths\"].fillna(0)\n",
    "df[\"norm_affected\"] = df[\"norm_affected\"].fillna(0)\n",
    "df[\"z_norm_damages\"] = df[\"z_norm_damages\"].fillna(0)\n",
    "df[\"z_norm_deaths\"] = df[\"z_norm_deaths\"].fillna(0)\n",
    "df[\"z_norm_affected\"] = df[\"z_norm_affected\"].fillna(0)\n",
    "\n",
    "# compute weighted score\n",
    "df[\"cont_independent\"] = (df[\"norm_damages\"] * WEIGHTS[\"damages\"] + \\\n",
    "                       df[\"norm_deaths\"] * WEIGHTS[\"deaths\"] + \\\n",
    "                       df[\"norm_affected\"] * WEIGHTS[\"affected\"])\n",
    "\n",
    "df[\"z_cont_independent\"] = (df[\"z_norm_damages\"] * WEIGHTS[\"damages\"] + \\\n",
    "                       df[\"z_norm_deaths\"] * WEIGHTS[\"deaths\"] + \\\n",
    "                       df[\"z_norm_affected\"] * WEIGHTS[\"affected\"])\n"
   ]
  },
  {
   "cell_type": "code",
   "execution_count": 403,
   "metadata": {},
   "outputs": [
    {
     "data": {
      "text/plain": [
       "[]"
      ]
     },
     "execution_count": 403,
     "metadata": {},
     "output_type": "execute_result"
    },
    {
     "data": {
      "image/png": "[encoded data removed]",
      "text/plain": [
       "<Figure size 640x480 with 1 Axes>"
      ]
     },
     "metadata": {},
     "output_type": "display_data"
    }
   ],
   "source": [
    "# Print independent variable\n",
    "import numpy as np\n",
    "import matplotlib.pyplot as plt\n",
    "\n",
    "fig,ax = plt.subplots(1)\n",
    "#weather plot the data\n",
    "plt.boxplot(df[[\"cont_dependent\", \"cont_independent\"]])\n",
    "ax.set_xticklabels([\"dependent variable\", \"independent variable\"])\n",
    "\n",
    "plt.plot()"
   ]
  },
  {
   "cell_type": "markdown",
   "metadata": {},
   "source": [
    "### Map plot"
   ]
  },
  {
   "cell_type": "code",
   "execution_count": 404,
   "metadata": {},
   "outputs": [
    {
     "name": "stderr",
     "output_type": "stream",
     "text": [
      "/var/folders/fc/nmrtwsyj4cx9_51gmbxm2lb80000gn/T/ipykernel_20104/23008253.py:3: FutureWarning: The geopandas.dataset module is deprecated and will be removed in GeoPandas 1.0. You can get the original 'naturalearth_lowres' data from https://www.naturalearthdata.com/downloads/110m-cultural-vectors/.\n",
      "  df_world: pd.DataFrame = gpd.read_file(gpd.datasets.get_path('naturalearth_lowres'))\n"
     ]
    },
    {
     "data": {
      "text/plain": [
       "<Axes: >"
      ]
     },
     "execution_count": 404,
     "metadata": {},
     "output_type": "execute_result"
    },
    {
     "data": {
      "image/png": "[encoded data removed]",
      "text/plain": [
       "<Figure size 640x480 with 2 Axes>"
      ]
     },
     "metadata": {},
     "output_type": "display_data"
    }
   ],
   "source": [
    "import geopandas as gpd\n",
    "\n",
    "df_world: pd.DataFrame = gpd.read_file(gpd.datasets.get_path('naturalearth_lowres'))\n",
    "df_world[\"name\"].replace(to_replace={\"United States of America\": \"USA\"}, inplace=True)\n",
    "\n",
    "outages_by_country = df[[\"country\", \"cont_dependent\"]].groupby(by=[\"country\"]).sum()\n",
    "merged_df = df_world.merge(outages_by_country, left_on=\"name\", right_on=\"country\")\n",
    "\n",
    "merged_df.plot(column=\"cont_dependent\", cmap=\"Blues\", legend=True)"
   ]
  },
  {
   "cell_type": "code",
   "execution_count": 405,
   "metadata": {},
   "outputs": [
    {
     "name": "stderr",
     "output_type": "stream",
     "text": [
      "/var/folders/fc/nmrtwsyj4cx9_51gmbxm2lb80000gn/T/ipykernel_20104/391384305.py:3: FutureWarning: The geopandas.dataset module is deprecated and will be removed in GeoPandas 1.0. You can get the original 'naturalearth_lowres' data from https://www.naturalearthdata.com/downloads/110m-cultural-vectors/.\n",
      "  df_world: pd.DataFrame = gpd.read_file(gpd.datasets.get_path('naturalearth_lowres'))\n"
     ]
    },
    {
     "data": {
      "image/png": "[encoded data removed]",
      "text/plain": [
       "<Figure size 640x480 with 2 Axes>"
      ]
     },
     "metadata": {},
     "output_type": "display_data"
    }
   ],
   "source": [
    "import geopandas as gpd\n",
    "\n",
    "df_world: pd.DataFrame = gpd.read_file(gpd.datasets.get_path('naturalearth_lowres'))\n",
    "df_world[\"name\"].replace(to_replace={\"United States of America\": \"USA\"}, inplace=True)\n",
    "\n",
    "outages_by_country = df[[\"country\", \"cont_independent\"]].groupby(by=[\"country\"]).sum()\n",
    "merged_df = df_world.merge(outages_by_country, left_on=\"name\", right_on=\"country\")\n",
    "\n",
    "merged_df.plot(column=\"cont_independent\", cmap=\"Reds\", legend=True)\n",
    "plt.show()"
   ]
  },
  {
   "cell_type": "markdown",
   "metadata": {},
   "source": [
    "## Linear regression"
   ]
  },
  {
   "cell_type": "code",
   "execution_count": 406,
   "metadata": {},
   "outputs": [
    {
     "data": {
      "text/html": [
       "<div>\n",
       "<style scoped>\n",
       "    .dataframe tbody tr th:only-of-type {\n",
       "        vertical-align: middle;\n",
       "    }\n",
       "\n",
       "    .dataframe tbody tr th {\n",
       "        vertical-align: top;\n",
       "    }\n",
       "\n",
       "    .dataframe thead th {\n",
       "        text-align: right;\n",
       "    }\n",
       "</style>\n",
       "<table border=\"1\" class=\"dataframe\">\n",
       "  <thead>\n",
       "    <tr style=\"text-align: right;\">\n",
       "      <th></th>\n",
       "      <th>Unnamed: 0</th>\n",
       "      <th>Unnamed: 0_x</th>\n",
       "      <th>date</th>\n",
       "      <th>country</th>\n",
       "      <th>id</th>\n",
       "      <th>start</th>\n",
       "      <th>end</th>\n",
       "      <th>severity</th>\n",
       "      <th>status</th>\n",
       "      <th>location</th>\n",
       "      <th>...</th>\n",
       "      <th>cont_dependent</th>\n",
       "      <th>z_cont_dependent</th>\n",
       "      <th>norm_damages</th>\n",
       "      <th>norm_deaths</th>\n",
       "      <th>norm_affected</th>\n",
       "      <th>z_norm_damages</th>\n",
       "      <th>z_norm_deaths</th>\n",
       "      <th>z_norm_affected</th>\n",
       "      <th>cont_independent</th>\n",
       "      <th>z_cont_independent</th>\n",
       "    </tr>\n",
       "  </thead>\n",
       "  <tbody>\n",
       "    <tr>\n",
       "      <th>399</th>\n",
       "      <td>399</td>\n",
       "      <td>443</td>\n",
       "      <td>2022-09-28</td>\n",
       "      <td>USA</td>\n",
       "      <td>fSKnyAispFXgYg5AnEW9</td>\n",
       "      <td>2022-09-27 12:58:00+00:00</td>\n",
       "      <td>2022-10-03 16:00:00+00:00</td>\n",
       "      <td>medium</td>\n",
       "      <td>SERVICE_DISRUPTION</td>\n",
       "      <td>us-central1</td>\n",
       "      <td>...</td>\n",
       "      <td>0.343907</td>\n",
       "      <td>0.490388</td>\n",
       "      <td>1.0</td>\n",
       "      <td>0.453453</td>\n",
       "      <td>0.0</td>\n",
       "      <td>1.934885</td>\n",
       "      <td>3.361799</td>\n",
       "      <td>0.000000</td>\n",
       "      <td>0.681381</td>\n",
       "      <td>2.312162</td>\n",
       "    </tr>\n",
       "    <tr>\n",
       "      <th>400</th>\n",
       "      <td>400</td>\n",
       "      <td>444</td>\n",
       "      <td>2022-09-28</td>\n",
       "      <td>USA</td>\n",
       "      <td>urNR4xD4gBNsyaZj3W1i</td>\n",
       "      <td>2022-09-15 23:01:57+00:00</td>\n",
       "      <td>2022-09-29 20:49:04+00:00</td>\n",
       "      <td>low</td>\n",
       "      <td>SERVICE_INFORMATION</td>\n",
       "      <td>us-central1</td>\n",
       "      <td>...</td>\n",
       "      <td>0.422090</td>\n",
       "      <td>0.418310</td>\n",
       "      <td>1.0</td>\n",
       "      <td>0.453453</td>\n",
       "      <td>0.0</td>\n",
       "      <td>1.934885</td>\n",
       "      <td>3.361799</td>\n",
       "      <td>0.000000</td>\n",
       "      <td>0.681381</td>\n",
       "      <td>2.312162</td>\n",
       "    </tr>\n",
       "    <tr>\n",
       "      <th>466</th>\n",
       "      <td>466</td>\n",
       "      <td>515</td>\n",
       "      <td>2022-09-29</td>\n",
       "      <td>USA</td>\n",
       "      <td>CAbbaRV5dc3LdkjJ8mt3</td>\n",
       "      <td>2022-09-29 21:53:14+00:00</td>\n",
       "      <td>2022-10-01 22:24:21+00:00</td>\n",
       "      <td>low</td>\n",
       "      <td>SERVICE_INFORMATION</td>\n",
       "      <td>us-central1</td>\n",
       "      <td>...</td>\n",
       "      <td>0.009000</td>\n",
       "      <td>-0.672017</td>\n",
       "      <td>1.0</td>\n",
       "      <td>0.453453</td>\n",
       "      <td>0.0</td>\n",
       "      <td>1.934885</td>\n",
       "      <td>3.361799</td>\n",
       "      <td>0.000000</td>\n",
       "      <td>0.681381</td>\n",
       "      <td>2.312162</td>\n",
       "    </tr>\n",
       "    <tr>\n",
       "      <th>467</th>\n",
       "      <td>467</td>\n",
       "      <td>516</td>\n",
       "      <td>2022-09-29</td>\n",
       "      <td>USA</td>\n",
       "      <td>eXTnrpxXmcgK36bMxrtD</td>\n",
       "      <td>2022-09-29 18:01:42+00:00</td>\n",
       "      <td>2022-09-29 22:02:11+00:00</td>\n",
       "      <td>low</td>\n",
       "      <td>SERVICE_INFORMATION</td>\n",
       "      <td>us</td>\n",
       "      <td>...</td>\n",
       "      <td>0.076780</td>\n",
       "      <td>-0.493115</td>\n",
       "      <td>1.0</td>\n",
       "      <td>0.453453</td>\n",
       "      <td>0.0</td>\n",
       "      <td>1.934885</td>\n",
       "      <td>3.361799</td>\n",
       "      <td>0.000000</td>\n",
       "      <td>0.681381</td>\n",
       "      <td>2.312162</td>\n",
       "    </tr>\n",
       "    <tr>\n",
       "      <th>468</th>\n",
       "      <td>468</td>\n",
       "      <td>517</td>\n",
       "      <td>2022-09-29</td>\n",
       "      <td>USA</td>\n",
       "      <td>fSKnyAispFXgYg5AnEW9</td>\n",
       "      <td>2022-09-27 12:58:00+00:00</td>\n",
       "      <td>2022-10-03 16:00:00+00:00</td>\n",
       "      <td>medium</td>\n",
       "      <td>SERVICE_DISRUPTION</td>\n",
       "      <td>us-central1</td>\n",
       "      <td>...</td>\n",
       "      <td>0.343907</td>\n",
       "      <td>0.490388</td>\n",
       "      <td>1.0</td>\n",
       "      <td>0.453453</td>\n",
       "      <td>0.0</td>\n",
       "      <td>1.934885</td>\n",
       "      <td>3.361799</td>\n",
       "      <td>0.000000</td>\n",
       "      <td>0.681381</td>\n",
       "      <td>2.312162</td>\n",
       "    </tr>\n",
       "    <tr>\n",
       "      <th>469</th>\n",
       "      <td>469</td>\n",
       "      <td>518</td>\n",
       "      <td>2022-09-29</td>\n",
       "      <td>USA</td>\n",
       "      <td>urNR4xD4gBNsyaZj3W1i</td>\n",
       "      <td>2022-09-15 23:01:57+00:00</td>\n",
       "      <td>2022-09-29 20:49:04+00:00</td>\n",
       "      <td>low</td>\n",
       "      <td>SERVICE_INFORMATION</td>\n",
       "      <td>us-central1</td>\n",
       "      <td>...</td>\n",
       "      <td>0.422090</td>\n",
       "      <td>0.418310</td>\n",
       "      <td>1.0</td>\n",
       "      <td>0.453453</td>\n",
       "      <td>0.0</td>\n",
       "      <td>1.934885</td>\n",
       "      <td>3.361799</td>\n",
       "      <td>0.000000</td>\n",
       "      <td>0.681381</td>\n",
       "      <td>2.312162</td>\n",
       "    </tr>\n",
       "    <tr>\n",
       "      <th>514</th>\n",
       "      <td>514</td>\n",
       "      <td>567</td>\n",
       "      <td>2022-09-30</td>\n",
       "      <td>USA</td>\n",
       "      <td>CAbbaRV5dc3LdkjJ8mt3</td>\n",
       "      <td>2022-09-29 21:53:14+00:00</td>\n",
       "      <td>2022-10-01 22:24:21+00:00</td>\n",
       "      <td>low</td>\n",
       "      <td>SERVICE_INFORMATION</td>\n",
       "      <td>us-central1</td>\n",
       "      <td>...</td>\n",
       "      <td>0.009000</td>\n",
       "      <td>-0.672017</td>\n",
       "      <td>1.0</td>\n",
       "      <td>0.453453</td>\n",
       "      <td>0.0</td>\n",
       "      <td>1.934885</td>\n",
       "      <td>3.361799</td>\n",
       "      <td>0.000000</td>\n",
       "      <td>0.681381</td>\n",
       "      <td>2.312162</td>\n",
       "    </tr>\n",
       "    <tr>\n",
       "      <th>515</th>\n",
       "      <td>515</td>\n",
       "      <td>568</td>\n",
       "      <td>2022-09-30</td>\n",
       "      <td>USA</td>\n",
       "      <td>fSKnyAispFXgYg5AnEW9</td>\n",
       "      <td>2022-09-27 12:58:00+00:00</td>\n",
       "      <td>2022-10-03 16:00:00+00:00</td>\n",
       "      <td>medium</td>\n",
       "      <td>SERVICE_DISRUPTION</td>\n",
       "      <td>us-central1</td>\n",
       "      <td>...</td>\n",
       "      <td>0.343907</td>\n",
       "      <td>0.490388</td>\n",
       "      <td>1.0</td>\n",
       "      <td>0.453453</td>\n",
       "      <td>0.0</td>\n",
       "      <td>1.934885</td>\n",
       "      <td>3.361799</td>\n",
       "      <td>0.000000</td>\n",
       "      <td>0.681381</td>\n",
       "      <td>2.312162</td>\n",
       "    </tr>\n",
       "    <tr>\n",
       "      <th>560</th>\n",
       "      <td>560</td>\n",
       "      <td>617</td>\n",
       "      <td>2022-10-01</td>\n",
       "      <td>USA</td>\n",
       "      <td>CAbbaRV5dc3LdkjJ8mt3</td>\n",
       "      <td>2022-09-29 21:53:14+00:00</td>\n",
       "      <td>2022-10-01 22:24:21+00:00</td>\n",
       "      <td>low</td>\n",
       "      <td>SERVICE_INFORMATION</td>\n",
       "      <td>us-central1</td>\n",
       "      <td>...</td>\n",
       "      <td>0.009000</td>\n",
       "      <td>-0.672017</td>\n",
       "      <td>1.0</td>\n",
       "      <td>0.453453</td>\n",
       "      <td>0.0</td>\n",
       "      <td>1.934885</td>\n",
       "      <td>3.361799</td>\n",
       "      <td>0.000000</td>\n",
       "      <td>0.681381</td>\n",
       "      <td>2.312162</td>\n",
       "    </tr>\n",
       "    <tr>\n",
       "      <th>561</th>\n",
       "      <td>561</td>\n",
       "      <td>618</td>\n",
       "      <td>2022-10-01</td>\n",
       "      <td>USA</td>\n",
       "      <td>fSKnyAispFXgYg5AnEW9</td>\n",
       "      <td>2022-09-27 12:58:00+00:00</td>\n",
       "      <td>2022-10-03 16:00:00+00:00</td>\n",
       "      <td>medium</td>\n",
       "      <td>SERVICE_DISRUPTION</td>\n",
       "      <td>us-central1</td>\n",
       "      <td>...</td>\n",
       "      <td>0.343907</td>\n",
       "      <td>0.490388</td>\n",
       "      <td>1.0</td>\n",
       "      <td>0.453453</td>\n",
       "      <td>0.0</td>\n",
       "      <td>1.934885</td>\n",
       "      <td>3.361799</td>\n",
       "      <td>0.000000</td>\n",
       "      <td>0.681381</td>\n",
       "      <td>2.312162</td>\n",
       "    </tr>\n",
       "    <tr>\n",
       "      <th>585</th>\n",
       "      <td>585</td>\n",
       "      <td>646</td>\n",
       "      <td>2022-10-02</td>\n",
       "      <td>USA</td>\n",
       "      <td>fSKnyAispFXgYg5AnEW9</td>\n",
       "      <td>2022-09-27 12:58:00+00:00</td>\n",
       "      <td>2022-10-03 16:00:00+00:00</td>\n",
       "      <td>medium</td>\n",
       "      <td>SERVICE_DISRUPTION</td>\n",
       "      <td>us-central1</td>\n",
       "      <td>...</td>\n",
       "      <td>0.343907</td>\n",
       "      <td>0.490388</td>\n",
       "      <td>1.0</td>\n",
       "      <td>0.453453</td>\n",
       "      <td>0.0</td>\n",
       "      <td>1.934885</td>\n",
       "      <td>3.361799</td>\n",
       "      <td>0.000000</td>\n",
       "      <td>0.681381</td>\n",
       "      <td>2.312162</td>\n",
       "    </tr>\n",
       "    <tr>\n",
       "      <th>2056</th>\n",
       "      <td>2056</td>\n",
       "      <td>2306</td>\n",
       "      <td>2022-11-21</td>\n",
       "      <td>Indonesia</td>\n",
       "      <td>NaN</td>\n",
       "      <td>NaT</td>\n",
       "      <td>NaT</td>\n",
       "      <td>NaN</td>\n",
       "      <td>NaN</td>\n",
       "      <td>NaN</td>\n",
       "      <td>...</td>\n",
       "      <td>0.000000</td>\n",
       "      <td>0.000000</td>\n",
       "      <td>0.0</td>\n",
       "      <td>1.000000</td>\n",
       "      <td>1.0</td>\n",
       "      <td>0.000000</td>\n",
       "      <td>8.065401</td>\n",
       "      <td>14.305188</td>\n",
       "      <td>0.500000</td>\n",
       "      <td>4.656679</td>\n",
       "    </tr>\n",
       "  </tbody>\n",
       "</table>\n",
       "<p>12 rows × 40 columns</p>\n",
       "</div>"
      ],
      "text/plain": [
       "      Unnamed: 0  Unnamed: 0_x        date    country                    id  \\\n",
       "399          399           443  2022-09-28        USA  fSKnyAispFXgYg5AnEW9   \n",
       "400          400           444  2022-09-28        USA  urNR4xD4gBNsyaZj3W1i   \n",
       "466          466           515  2022-09-29        USA  CAbbaRV5dc3LdkjJ8mt3   \n",
       "467          467           516  2022-09-29        USA  eXTnrpxXmcgK36bMxrtD   \n",
       "468          468           517  2022-09-29        USA  fSKnyAispFXgYg5AnEW9   \n",
       "469          469           518  2022-09-29        USA  urNR4xD4gBNsyaZj3W1i   \n",
       "514          514           567  2022-09-30        USA  CAbbaRV5dc3LdkjJ8mt3   \n",
       "515          515           568  2022-09-30        USA  fSKnyAispFXgYg5AnEW9   \n",
       "560          560           617  2022-10-01        USA  CAbbaRV5dc3LdkjJ8mt3   \n",
       "561          561           618  2022-10-01        USA  fSKnyAispFXgYg5AnEW9   \n",
       "585          585           646  2022-10-02        USA  fSKnyAispFXgYg5AnEW9   \n",
       "2056        2056          2306  2022-11-21  Indonesia                   NaN   \n",
       "\n",
       "                         start                       end severity  \\\n",
       "399  2022-09-27 12:58:00+00:00 2022-10-03 16:00:00+00:00   medium   \n",
       "400  2022-09-15 23:01:57+00:00 2022-09-29 20:49:04+00:00      low   \n",
       "466  2022-09-29 21:53:14+00:00 2022-10-01 22:24:21+00:00      low   \n",
       "467  2022-09-29 18:01:42+00:00 2022-09-29 22:02:11+00:00      low   \n",
       "468  2022-09-27 12:58:00+00:00 2022-10-03 16:00:00+00:00   medium   \n",
       "469  2022-09-15 23:01:57+00:00 2022-09-29 20:49:04+00:00      low   \n",
       "514  2022-09-29 21:53:14+00:00 2022-10-01 22:24:21+00:00      low   \n",
       "515  2022-09-27 12:58:00+00:00 2022-10-03 16:00:00+00:00   medium   \n",
       "560  2022-09-29 21:53:14+00:00 2022-10-01 22:24:21+00:00      low   \n",
       "561  2022-09-27 12:58:00+00:00 2022-10-03 16:00:00+00:00   medium   \n",
       "585  2022-09-27 12:58:00+00:00 2022-10-03 16:00:00+00:00   medium   \n",
       "2056                       NaT                       NaT      NaN   \n",
       "\n",
       "                   status     location  ... cont_dependent  z_cont_dependent  \\\n",
       "399    SERVICE_DISRUPTION  us-central1  ...       0.343907          0.490388   \n",
       "400   SERVICE_INFORMATION  us-central1  ...       0.422090          0.418310   \n",
       "466   SERVICE_INFORMATION  us-central1  ...       0.009000         -0.672017   \n",
       "467   SERVICE_INFORMATION           us  ...       0.076780         -0.493115   \n",
       "468    SERVICE_DISRUPTION  us-central1  ...       0.343907          0.490388   \n",
       "469   SERVICE_INFORMATION  us-central1  ...       0.422090          0.418310   \n",
       "514   SERVICE_INFORMATION  us-central1  ...       0.009000         -0.672017   \n",
       "515    SERVICE_DISRUPTION  us-central1  ...       0.343907          0.490388   \n",
       "560   SERVICE_INFORMATION  us-central1  ...       0.009000         -0.672017   \n",
       "561    SERVICE_DISRUPTION  us-central1  ...       0.343907          0.490388   \n",
       "585    SERVICE_DISRUPTION  us-central1  ...       0.343907          0.490388   \n",
       "2056                  NaN          NaN  ...       0.000000          0.000000   \n",
       "\n",
       "     norm_damages  norm_deaths norm_affected z_norm_damages z_norm_deaths  \\\n",
       "399           1.0     0.453453           0.0       1.934885      3.361799   \n",
       "400           1.0     0.453453           0.0       1.934885      3.361799   \n",
       "466           1.0     0.453453           0.0       1.934885      3.361799   \n",
       "467           1.0     0.453453           0.0       1.934885      3.361799   \n",
       "468           1.0     0.453453           0.0       1.934885      3.361799   \n",
       "469           1.0     0.453453           0.0       1.934885      3.361799   \n",
       "514           1.0     0.453453           0.0       1.934885      3.361799   \n",
       "515           1.0     0.453453           0.0       1.934885      3.361799   \n",
       "560           1.0     0.453453           0.0       1.934885      3.361799   \n",
       "561           1.0     0.453453           0.0       1.934885      3.361799   \n",
       "585           1.0     0.453453           0.0       1.934885      3.361799   \n",
       "2056          0.0     1.000000           1.0       0.000000      8.065401   \n",
       "\n",
       "     z_norm_affected  cont_independent  z_cont_independent  \n",
       "399         0.000000          0.681381            2.312162  \n",
       "400         0.000000          0.681381            2.312162  \n",
       "466         0.000000          0.681381            2.312162  \n",
       "467         0.000000          0.681381            2.312162  \n",
       "468         0.000000          0.681381            2.312162  \n",
       "469         0.000000          0.681381            2.312162  \n",
       "514         0.000000          0.681381            2.312162  \n",
       "515         0.000000          0.681381            2.312162  \n",
       "560         0.000000          0.681381            2.312162  \n",
       "561         0.000000          0.681381            2.312162  \n",
       "585         0.000000          0.681381            2.312162  \n",
       "2056       14.305188          0.500000            4.656679  \n",
       "\n",
       "[12 rows x 40 columns]"
      ]
     },
     "execution_count": 406,
     "metadata": {},
     "output_type": "execute_result"
    }
   ],
   "source": [
    "df[df[\"cont_independent\"] > 0.4]"
   ]
  },
  {
   "cell_type": "code",
   "execution_count": 407,
   "metadata": {},
   "outputs": [
    {
     "name": "stdout",
     "output_type": "stream",
     "text": [
      "Coefficients: \n",
      " [0.15560028]\n",
      "                            OLS Regression Results                            \n",
      "==============================================================================\n",
      "Dep. Variable:                      y   R-squared:                       0.000\n",
      "Model:                            OLS   Adj. R-squared:                  0.000\n",
      "Method:                 Least Squares   F-statistic:                     4.221\n",
      "Date:                Sat, 07 Oct 2023   Prob (F-statistic):             0.0399\n",
      "Time:                        17:11:10   Log-Likelihood:                 2858.8\n",
      "No. Observations:               10128   AIC:                            -5714.\n",
      "Df Residuals:                   10126   BIC:                            -5699.\n",
      "Df Model:                           1                                         \n",
      "Covariance Type:            nonrobust                                         \n",
      "==============================================================================\n",
      "                 coef    std err          t      P>|t|      [0.025      0.975]\n",
      "------------------------------------------------------------------------------\n",
      "const          0.1231      0.002     67.757      0.000       0.120       0.127\n",
      "x1             0.1556      0.076      2.055      0.040       0.007       0.304\n",
      "==============================================================================\n",
      "Omnibus:                     2151.764   Durbin-Watson:                   0.899\n",
      "Prob(Omnibus):                  0.000   Jarque-Bera (JB):             3787.205\n",
      "Skew:                           1.423   Prob(JB):                         0.00\n",
      "Kurtosis:                       3.932   Cond. No.                         41.8\n",
      "==============================================================================\n",
      "\n",
      "Notes:\n",
      "[1] Standard Errors assume that the covariance matrix of the errors is correctly specified.\n"
     ]
    },
    {
     "data": {
      "image/png": "[encoded data removed]",
      "text/plain": [
       "<Figure size 640x480 with 1 Axes>"
      ]
     },
     "metadata": {},
     "output_type": "display_data"
    }
   ],
   "source": [
    "import numpy as np\n",
    "import matplotlib.pyplot as plt\n",
    "from sklearn import linear_model\n",
    "import statsmodels.api as sm\n",
    "\n",
    "# plot the data\n",
    "plt.scatter(df[\"cont_independent\"], df[\"cont_dependent\"], )\n",
    "plt.xlabel(\"weather severity\")\n",
    "plt.ylabel(\"outage severity\")\n",
    "# plt.savefig(\"outages_weather_scatter.png\")\n",
    "\n",
    "\n",
    "# model using linear regression\n",
    "X = df[\"cont_independent\"].to_numpy().reshape(-1, 1)\n",
    "Y = df[\"cont_dependent\"].to_numpy()\n",
    "reg = linear_model.LinearRegression()\n",
    "reg.fit(X, Y)\n",
    "print(\"Coefficients: \\n\", reg.coef_)\n",
    "\n",
    "predicted_Y = reg.predict(X)\n",
    "\n",
    "plt.plot(X, predicted_Y, color=\"red\")\n",
    "\n",
    "\n",
    "X = sm.add_constant(X) # add const to allow for constant offset of gradient\n",
    "stats_results = sm.OLS(Y, X).fit()\n",
    "print(stats_results.summary())"
   ]
  },
  {
   "cell_type": "code",
   "execution_count": 408,
   "metadata": {},
   "outputs": [
    {
     "name": "stdout",
     "output_type": "stream",
     "text": [
      "Coefficients: \n",
      " [[1.09103099]]\n",
      "Optimization terminated successfully.\n",
      "         Current function value: 0.555274\n",
      "         Iterations 5\n",
      "                           Logit Regression Results                           \n",
      "==============================================================================\n",
      "Dep. Variable:                      y   No. Observations:                10128\n",
      "Model:                          Logit   Df Residuals:                    10126\n",
      "Method:                           MLE   Df Model:                            1\n",
      "Date:                Sat, 07 Oct 2023   Pseudo R-squ.:               0.0004232\n",
      "Time:                        17:11:10   Log-Likelihood:                -5623.8\n",
      "converged:                       True   LL-Null:                       -5626.2\n",
      "Covariance Type:            nonrobust   LLR p-value:                   0.02909\n",
      "==============================================================================\n",
      "                 coef    std err          z      P>|z|      [0.025      0.975]\n",
      "------------------------------------------------------------------------------\n",
      "const         -1.1346      0.023    -48.920      0.000      -1.180      -1.089\n",
      "x1             1.8636      0.839      2.222      0.026       0.220       3.507\n",
      "==============================================================================\n"
     ]
    },
    {
     "data": {
      "image/png": "[encoded data removed]",
      "text/plain": [
       "<Figure size 640x480 with 1 Axes>"
      ]
     },
     "metadata": {},
     "output_type": "display_data"
    }
   ],
   "source": [
    "import numpy as np\n",
    "import matplotlib.pyplot as plt\n",
    "from sklearn import linear_model\n",
    "import statsmodels.api as sm\n",
    "\n",
    "df.loc[df['cont_dependent'] <= 0.2, 'binary_dependent'] = 0\n",
    "df.loc[df['cont_dependent'] > 0.2, 'binary_dependent'] = 1\n",
    "\n",
    "# plot the data\n",
    "# plt.scatter(df[\"cont_independent\"], df[\"binary_dependent\"], )\n",
    "plt.xlabel(\"weather severity\")\n",
    "plt.ylabel(\"outage severity\")\n",
    "# plt.savefig(\"outages_weather_scatter.png\")\n",
    "\n",
    "\n",
    "# model using linear regression\n",
    "X = df[\"cont_independent\"].to_numpy().reshape(-1, 1)\n",
    "Y = df[\"binary_dependent\"].to_numpy()\n",
    "reg = linear_model.LogisticRegression()\n",
    "reg.fit(X, Y)\n",
    "print(\"Coefficients: \\n\", reg.coef_)\n",
    "\n",
    "predicted_Y = reg.predict(X)\n",
    "\n",
    "# plt.scatter(X, Y, c=predicted_Y)\n",
    "plt.scatter(X, Y)\n",
    "\n",
    "X = sm.add_constant(X) # add const to allow for constant offset of gradient\n",
    "stats_results = sm.Logit(Y, X).fit()\n",
    "print(stats_results.summary())"
   ]
  }
 ],
 "metadata": {
  "kernelspec": {
   "display_name": "Python 3",
   "language": "python",
   "name": "python3"
  },
  "language_info": {
   "codemirror_mode": {
    "name": "ipython",
    "version": 3
   },
   "file_extension": ".py",
   "mimetype": "text/x-python",
   "name": "python",
   "nbconvert_exporter": "python",
   "pygments_lexer": "ipython3",
   "version": "3.11.5"
  },
  "orig_nbformat": 4
 },
 "nbformat": 4,
 "nbformat_minor": 2
}
